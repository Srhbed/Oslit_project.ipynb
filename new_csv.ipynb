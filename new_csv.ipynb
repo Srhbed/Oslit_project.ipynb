{
 "cells": [
  {
   "cell_type": "code",
   "execution_count": 733,
   "metadata": {},
   "outputs": [],
   "source": [
    "import pandas as pd\n",
    "import numpy as np\n",
    "import random\n",
    "import matplotlib.pyplot as plt\n",
    "from matplotlib import style\n",
    "import seaborn as sns\n",
    "import warnings\n",
    "import missingno as msno\n",
    "from datetime import datetime, timedelta\n",
    "import plotly.express as px\n",
    "import pandas as pd\n",
    "from sklearn.compose import make_column_transformer, make_column_selector, ColumnTransformer\n",
    "from sklearn.preprocessing import PolynomialFeatures, StandardScaler, OneHotEncoder, RobustScaler,MinMaxScaler\n",
    "from sklearn.pipeline import make_pipeline, Pipeline\n",
    "from sklearn.cluster import KMeans\n",
    "from sklearn.preprocessing import FunctionTransformer\n",
    "from sklearn import preprocessing,cluster, pipeline, compose, decomposition\n",
    "from sklearn.decomposition import PCA\n",
    "\n",
    "warnings.filterwarnings(\"ignore\")\n"
   ]
  },
  {
   "attachments": {},
   "cell_type": "markdown",
   "metadata": {},
   "source": [
    "## Partie 1: L'analyse de l'objectif "
   ]
  },
  {
   "cell_type": "code",
   "execution_count": 734,
   "metadata": {},
   "outputs": [
    {
     "data": {
      "text/html": [
       "<div>\n",
       "<style scoped>\n",
       "    .dataframe tbody tr th:only-of-type {\n",
       "        vertical-align: middle;\n",
       "    }\n",
       "\n",
       "    .dataframe tbody tr th {\n",
       "        vertical-align: top;\n",
       "    }\n",
       "\n",
       "    .dataframe thead th {\n",
       "        text-align: right;\n",
       "    }\n",
       "</style>\n",
       "<table border=\"1\" class=\"dataframe\">\n",
       "  <thead>\n",
       "    <tr style=\"text-align: right;\">\n",
       "      <th></th>\n",
       "      <th>Unnamed: 0</th>\n",
       "      <th>customer_unique_id</th>\n",
       "      <th>customer_state</th>\n",
       "      <th>order_status</th>\n",
       "      <th>order_purchase_timestamp</th>\n",
       "      <th>order_delivered_customer_date</th>\n",
       "      <th>order_item_id</th>\n",
       "      <th>shipping_limit_date</th>\n",
       "      <th>price</th>\n",
       "      <th>freight_value</th>\n",
       "      <th>payment_type</th>\n",
       "      <th>payment_value</th>\n",
       "      <th>review_score</th>\n",
       "      <th>product_category_name</th>\n",
       "      <th>seller_state</th>\n",
       "    </tr>\n",
       "  </thead>\n",
       "  <tbody>\n",
       "    <tr>\n",
       "      <th>0</th>\n",
       "      <td>0</td>\n",
       "      <td>861eff4711a542e4b93843c6dd7febb0</td>\n",
       "      <td>SP</td>\n",
       "      <td>delivered</td>\n",
       "      <td>2017-05-16 15:05:35</td>\n",
       "      <td>2017-05-25 10:35:35</td>\n",
       "      <td>1.0</td>\n",
       "      <td>2017-05-22 15:22:12</td>\n",
       "      <td>124.99</td>\n",
       "      <td>21.88</td>\n",
       "      <td>credit_card</td>\n",
       "      <td>146.87</td>\n",
       "      <td>4.0</td>\n",
       "      <td>moveis_escritorio</td>\n",
       "      <td>SP</td>\n",
       "    </tr>\n",
       "    <tr>\n",
       "      <th>1</th>\n",
       "      <td>1</td>\n",
       "      <td>290c77bc529b7ac935b93aa66c333dc3</td>\n",
       "      <td>SP</td>\n",
       "      <td>delivered</td>\n",
       "      <td>2018-01-12 20:48:24</td>\n",
       "      <td>2018-01-29 12:41:19</td>\n",
       "      <td>1.0</td>\n",
       "      <td>2018-01-18 20:58:32</td>\n",
       "      <td>289.00</td>\n",
       "      <td>46.48</td>\n",
       "      <td>credit_card</td>\n",
       "      <td>335.48</td>\n",
       "      <td>5.0</td>\n",
       "      <td>utilidades_domesticas</td>\n",
       "      <td>SC</td>\n",
       "    </tr>\n",
       "    <tr>\n",
       "      <th>2</th>\n",
       "      <td>2</td>\n",
       "      <td>060e732b5b29e8181a18229c7b0b2b5e</td>\n",
       "      <td>SP</td>\n",
       "      <td>delivered</td>\n",
       "      <td>2018-05-19 16:07:45</td>\n",
       "      <td>2018-06-14 17:58:51</td>\n",
       "      <td>1.0</td>\n",
       "      <td>2018-06-05 16:19:10</td>\n",
       "      <td>139.94</td>\n",
       "      <td>17.79</td>\n",
       "      <td>credit_card</td>\n",
       "      <td>157.73</td>\n",
       "      <td>5.0</td>\n",
       "      <td>moveis_escritorio</td>\n",
       "      <td>SP</td>\n",
       "    </tr>\n",
       "    <tr>\n",
       "      <th>3</th>\n",
       "      <td>3</td>\n",
       "      <td>259dac757896d24d7702b9acbbff3f3c</td>\n",
       "      <td>SP</td>\n",
       "      <td>delivered</td>\n",
       "      <td>2018-03-13 16:06:38</td>\n",
       "      <td>2018-03-28 16:04:25</td>\n",
       "      <td>1.0</td>\n",
       "      <td>2018-03-27 16:31:16</td>\n",
       "      <td>149.94</td>\n",
       "      <td>23.36</td>\n",
       "      <td>credit_card</td>\n",
       "      <td>173.30</td>\n",
       "      <td>5.0</td>\n",
       "      <td>moveis_escritorio</td>\n",
       "      <td>SP</td>\n",
       "    </tr>\n",
       "    <tr>\n",
       "      <th>4</th>\n",
       "      <td>4</td>\n",
       "      <td>345ecd01c38d18a9036ed96c73b8d066</td>\n",
       "      <td>SP</td>\n",
       "      <td>delivered</td>\n",
       "      <td>2018-07-29 09:51:30</td>\n",
       "      <td>2018-08-09 20:55:48</td>\n",
       "      <td>1.0</td>\n",
       "      <td>2018-07-31 10:10:09</td>\n",
       "      <td>230.00</td>\n",
       "      <td>22.25</td>\n",
       "      <td>credit_card</td>\n",
       "      <td>252.25</td>\n",
       "      <td>5.0</td>\n",
       "      <td>casa_conforto</td>\n",
       "      <td>SP</td>\n",
       "    </tr>\n",
       "    <tr>\n",
       "      <th>...</th>\n",
       "      <td>...</td>\n",
       "      <td>...</td>\n",
       "      <td>...</td>\n",
       "      <td>...</td>\n",
       "      <td>...</td>\n",
       "      <td>...</td>\n",
       "      <td>...</td>\n",
       "      <td>...</td>\n",
       "      <td>...</td>\n",
       "      <td>...</td>\n",
       "      <td>...</td>\n",
       "      <td>...</td>\n",
       "      <td>...</td>\n",
       "      <td>...</td>\n",
       "      <td>...</td>\n",
       "    </tr>\n",
       "    <tr>\n",
       "      <th>119138</th>\n",
       "      <td>119138</td>\n",
       "      <td>1a29b476fee25c95fbafc67c5ac95cf8</td>\n",
       "      <td>SP</td>\n",
       "      <td>delivered</td>\n",
       "      <td>2018-04-07 15:48:17</td>\n",
       "      <td>2018-04-13 20:06:37</td>\n",
       "      <td>1.0</td>\n",
       "      <td>2018-04-12 16:08:45</td>\n",
       "      <td>74.90</td>\n",
       "      <td>13.88</td>\n",
       "      <td>credit_card</td>\n",
       "      <td>88.78</td>\n",
       "      <td>4.0</td>\n",
       "      <td>livros_interesse_geral</td>\n",
       "      <td>SP</td>\n",
       "    </tr>\n",
       "    <tr>\n",
       "      <th>119139</th>\n",
       "      <td>119139</td>\n",
       "      <td>d52a67c98be1cf6a5c84435bd38d095d</td>\n",
       "      <td>SP</td>\n",
       "      <td>delivered</td>\n",
       "      <td>2018-04-04 08:20:22</td>\n",
       "      <td>2018-04-11 18:54:45</td>\n",
       "      <td>1.0</td>\n",
       "      <td>2018-04-10 08:35:12</td>\n",
       "      <td>114.90</td>\n",
       "      <td>14.16</td>\n",
       "      <td>credit_card</td>\n",
       "      <td>129.06</td>\n",
       "      <td>5.0</td>\n",
       "      <td>esporte_lazer</td>\n",
       "      <td>SP</td>\n",
       "    </tr>\n",
       "    <tr>\n",
       "      <th>119140</th>\n",
       "      <td>119140</td>\n",
       "      <td>e9f50caf99f032f0bf3c55141f019d99</td>\n",
       "      <td>CE</td>\n",
       "      <td>delivered</td>\n",
       "      <td>2018-04-08 20:11:50</td>\n",
       "      <td>2018-05-09 19:03:15</td>\n",
       "      <td>1.0</td>\n",
       "      <td>2018-04-12 20:30:03</td>\n",
       "      <td>37.00</td>\n",
       "      <td>19.04</td>\n",
       "      <td>credit_card</td>\n",
       "      <td>56.04</td>\n",
       "      <td>1.0</td>\n",
       "      <td>beleza_saude</td>\n",
       "      <td>SP</td>\n",
       "    </tr>\n",
       "    <tr>\n",
       "      <th>119141</th>\n",
       "      <td>119141</td>\n",
       "      <td>73c2643a0a458b49f58cea58833b192e</td>\n",
       "      <td>RS</td>\n",
       "      <td>delivered</td>\n",
       "      <td>2017-11-03 21:08:33</td>\n",
       "      <td>2017-11-16 19:58:39</td>\n",
       "      <td>1.0</td>\n",
       "      <td>2017-11-09 21:15:51</td>\n",
       "      <td>689.00</td>\n",
       "      <td>22.07</td>\n",
       "      <td>credit_card</td>\n",
       "      <td>711.07</td>\n",
       "      <td>5.0</td>\n",
       "      <td>relogios_presentes</td>\n",
       "      <td>SP</td>\n",
       "    </tr>\n",
       "    <tr>\n",
       "      <th>119142</th>\n",
       "      <td>119142</td>\n",
       "      <td>84732c5050c01db9b23e19ba39899398</td>\n",
       "      <td>SP</td>\n",
       "      <td>delivered</td>\n",
       "      <td>2017-12-19 14:27:23</td>\n",
       "      <td>2017-12-26 18:42:36</td>\n",
       "      <td>1.0</td>\n",
       "      <td>2017-12-26 18:50:39</td>\n",
       "      <td>13.99</td>\n",
       "      <td>7.78</td>\n",
       "      <td>credit_card</td>\n",
       "      <td>21.77</td>\n",
       "      <td>5.0</td>\n",
       "      <td>perfumaria</td>\n",
       "      <td>SP</td>\n",
       "    </tr>\n",
       "  </tbody>\n",
       "</table>\n",
       "<p>119143 rows × 15 columns</p>\n",
       "</div>"
      ],
      "text/plain": [
       "        Unnamed: 0                customer_unique_id customer_state  \\\n",
       "0                0  861eff4711a542e4b93843c6dd7febb0             SP   \n",
       "1                1  290c77bc529b7ac935b93aa66c333dc3             SP   \n",
       "2                2  060e732b5b29e8181a18229c7b0b2b5e             SP   \n",
       "3                3  259dac757896d24d7702b9acbbff3f3c             SP   \n",
       "4                4  345ecd01c38d18a9036ed96c73b8d066             SP   \n",
       "...            ...                               ...            ...   \n",
       "119138      119138  1a29b476fee25c95fbafc67c5ac95cf8             SP   \n",
       "119139      119139  d52a67c98be1cf6a5c84435bd38d095d             SP   \n",
       "119140      119140  e9f50caf99f032f0bf3c55141f019d99             CE   \n",
       "119141      119141  73c2643a0a458b49f58cea58833b192e             RS   \n",
       "119142      119142  84732c5050c01db9b23e19ba39899398             SP   \n",
       "\n",
       "       order_status order_purchase_timestamp order_delivered_customer_date  \\\n",
       "0         delivered      2017-05-16 15:05:35           2017-05-25 10:35:35   \n",
       "1         delivered      2018-01-12 20:48:24           2018-01-29 12:41:19   \n",
       "2         delivered      2018-05-19 16:07:45           2018-06-14 17:58:51   \n",
       "3         delivered      2018-03-13 16:06:38           2018-03-28 16:04:25   \n",
       "4         delivered      2018-07-29 09:51:30           2018-08-09 20:55:48   \n",
       "...             ...                      ...                           ...   \n",
       "119138    delivered      2018-04-07 15:48:17           2018-04-13 20:06:37   \n",
       "119139    delivered      2018-04-04 08:20:22           2018-04-11 18:54:45   \n",
       "119140    delivered      2018-04-08 20:11:50           2018-05-09 19:03:15   \n",
       "119141    delivered      2017-11-03 21:08:33           2017-11-16 19:58:39   \n",
       "119142    delivered      2017-12-19 14:27:23           2017-12-26 18:42:36   \n",
       "\n",
       "        order_item_id  shipping_limit_date   price  freight_value  \\\n",
       "0                 1.0  2017-05-22 15:22:12  124.99          21.88   \n",
       "1                 1.0  2018-01-18 20:58:32  289.00          46.48   \n",
       "2                 1.0  2018-06-05 16:19:10  139.94          17.79   \n",
       "3                 1.0  2018-03-27 16:31:16  149.94          23.36   \n",
       "4                 1.0  2018-07-31 10:10:09  230.00          22.25   \n",
       "...               ...                  ...     ...            ...   \n",
       "119138            1.0  2018-04-12 16:08:45   74.90          13.88   \n",
       "119139            1.0  2018-04-10 08:35:12  114.90          14.16   \n",
       "119140            1.0  2018-04-12 20:30:03   37.00          19.04   \n",
       "119141            1.0  2017-11-09 21:15:51  689.00          22.07   \n",
       "119142            1.0  2017-12-26 18:50:39   13.99           7.78   \n",
       "\n",
       "       payment_type  payment_value  review_score   product_category_name  \\\n",
       "0       credit_card         146.87           4.0       moveis_escritorio   \n",
       "1       credit_card         335.48           5.0   utilidades_domesticas   \n",
       "2       credit_card         157.73           5.0       moveis_escritorio   \n",
       "3       credit_card         173.30           5.0       moveis_escritorio   \n",
       "4       credit_card         252.25           5.0           casa_conforto   \n",
       "...             ...            ...           ...                     ...   \n",
       "119138  credit_card          88.78           4.0  livros_interesse_geral   \n",
       "119139  credit_card         129.06           5.0           esporte_lazer   \n",
       "119140  credit_card          56.04           1.0            beleza_saude   \n",
       "119141  credit_card         711.07           5.0      relogios_presentes   \n",
       "119142  credit_card          21.77           5.0              perfumaria   \n",
       "\n",
       "       seller_state  \n",
       "0                SP  \n",
       "1                SC  \n",
       "2                SP  \n",
       "3                SP  \n",
       "4                SP  \n",
       "...             ...  \n",
       "119138           SP  \n",
       "119139           SP  \n",
       "119140           SP  \n",
       "119141           SP  \n",
       "119142           SP  \n",
       "\n",
       "[119143 rows x 15 columns]"
      ]
     },
     "execution_count": 734,
     "metadata": {},
     "output_type": "execute_result"
    }
   ],
   "source": [
    "data_finale=pd.read_csv('la_base_.csv')\n",
    "data_finale"
   ]
  },
  {
   "cell_type": "code",
   "execution_count": 735,
   "metadata": {},
   "outputs": [
    {
     "data": {
      "text/plain": [
       "96096"
      ]
     },
     "execution_count": 735,
     "metadata": {},
     "output_type": "execute_result"
    }
   ],
   "source": [
    "data_finale['customer_unique_id'].nunique()"
   ]
  },
  {
   "cell_type": "code",
   "execution_count": 736,
   "metadata": {},
   "outputs": [
    {
     "data": {
      "text/plain": [
       "1.0     103645\n",
       "2.0      10317\n",
       "3.0       2396\n",
       "4.0        995\n",
       "5.0        472\n",
       "6.0        265\n",
       "7.0         61\n",
       "8.0         37\n",
       "9.0         29\n",
       "10.0        26\n",
       "11.0        18\n",
       "12.0        13\n",
       "13.0         8\n",
       "14.0         7\n",
       "15.0         5\n",
       "16.0         3\n",
       "17.0         3\n",
       "18.0         3\n",
       "19.0         3\n",
       "20.0         3\n",
       "21.0         1\n",
       "Name: order_item_id, dtype: int64"
      ]
     },
     "execution_count": 736,
     "metadata": {},
     "output_type": "execute_result"
    }
   ],
   "source": [
    "data_finale['order_item_id'].value_counts()"
   ]
  },
  {
   "cell_type": "code",
   "execution_count": 737,
   "metadata": {},
   "outputs": [
    {
     "data": {
      "text/plain": [
       "<AxesSubplot:>"
      ]
     },
     "execution_count": 737,
     "metadata": {},
     "output_type": "execute_result"
    },
    {
     "data": {
      "image/png": "[encoded data removed]",
      "text/plain": [
       "<Figure size 2500x1000 with 2 Axes>"
      ]
     },
     "metadata": {},
     "output_type": "display_data"
    }
   ],
   "source": [
    "msno.matrix(data_finale)"
   ]
  },
  {
   "cell_type": "code",
   "execution_count": 738,
   "metadata": {},
   "outputs": [
    {
     "name": "stdout",
     "output_type": "stream",
     "text": [
      "<class 'pandas.core.frame.DataFrame'>\n",
      "RangeIndex: 119143 entries, 0 to 119142\n",
      "Data columns (total 15 columns):\n",
      " #   Column                         Non-Null Count   Dtype  \n",
      "---  ------                         --------------   -----  \n",
      " 0   Unnamed: 0                     119143 non-null  int64  \n",
      " 1   customer_unique_id             119143 non-null  object \n",
      " 2   customer_state                 119143 non-null  object \n",
      " 3   order_status                   119143 non-null  object \n",
      " 4   order_purchase_timestamp       119143 non-null  object \n",
      " 5   order_delivered_customer_date  115722 non-null  object \n",
      " 6   order_item_id                  118310 non-null  float64\n",
      " 7   shipping_limit_date            118310 non-null  object \n",
      " 8   price                          118310 non-null  float64\n",
      " 9   freight_value                  118310 non-null  float64\n",
      " 10  payment_type                   119140 non-null  object \n",
      " 11  payment_value                  119140 non-null  float64\n",
      " 12  review_score                   118146 non-null  float64\n",
      " 13  product_category_name          116601 non-null  object \n",
      " 14  seller_state                   118310 non-null  object \n",
      "dtypes: float64(5), int64(1), object(9)\n",
      "memory usage: 13.6+ MB\n"
     ]
    }
   ],
   "source": [
    "data_finale.info()"
   ]
  },
  {
   "cell_type": "code",
   "execution_count": 739,
   "metadata": {},
   "outputs": [],
   "source": [
    "data_finale=data_finale.drop(['Unnamed: 0','freight_value','price','seller_state','customer_state','order_delivered_customer_date','shipping_limit_date'],axis=1)\n"
   ]
  },
  {
   "cell_type": "code",
   "execution_count": 740,
   "metadata": {},
   "outputs": [
    {
     "data": {
      "text/html": [
       "<div>\n",
       "<style scoped>\n",
       "    .dataframe tbody tr th:only-of-type {\n",
       "        vertical-align: middle;\n",
       "    }\n",
       "\n",
       "    .dataframe tbody tr th {\n",
       "        vertical-align: top;\n",
       "    }\n",
       "\n",
       "    .dataframe thead th {\n",
       "        text-align: right;\n",
       "    }\n",
       "</style>\n",
       "<table border=\"1\" class=\"dataframe\">\n",
       "  <thead>\n",
       "    <tr style=\"text-align: right;\">\n",
       "      <th></th>\n",
       "      <th>customer_unique_id</th>\n",
       "      <th>order_status</th>\n",
       "      <th>order_purchase_timestamp</th>\n",
       "      <th>order_item_id</th>\n",
       "      <th>payment_type</th>\n",
       "      <th>payment_value</th>\n",
       "      <th>review_score</th>\n",
       "      <th>product_category_name</th>\n",
       "    </tr>\n",
       "  </thead>\n",
       "  <tbody>\n",
       "    <tr>\n",
       "      <th>0</th>\n",
       "      <td>861eff4711a542e4b93843c6dd7febb0</td>\n",
       "      <td>delivered</td>\n",
       "      <td>2017-05-16 15:05:35</td>\n",
       "      <td>1.0</td>\n",
       "      <td>credit_card</td>\n",
       "      <td>146.87</td>\n",
       "      <td>4.0</td>\n",
       "      <td>moveis_escritorio</td>\n",
       "    </tr>\n",
       "    <tr>\n",
       "      <th>1</th>\n",
       "      <td>290c77bc529b7ac935b93aa66c333dc3</td>\n",
       "      <td>delivered</td>\n",
       "      <td>2018-01-12 20:48:24</td>\n",
       "      <td>1.0</td>\n",
       "      <td>credit_card</td>\n",
       "      <td>335.48</td>\n",
       "      <td>5.0</td>\n",
       "      <td>utilidades_domesticas</td>\n",
       "    </tr>\n",
       "    <tr>\n",
       "      <th>2</th>\n",
       "      <td>060e732b5b29e8181a18229c7b0b2b5e</td>\n",
       "      <td>delivered</td>\n",
       "      <td>2018-05-19 16:07:45</td>\n",
       "      <td>1.0</td>\n",
       "      <td>credit_card</td>\n",
       "      <td>157.73</td>\n",
       "      <td>5.0</td>\n",
       "      <td>moveis_escritorio</td>\n",
       "    </tr>\n",
       "    <tr>\n",
       "      <th>3</th>\n",
       "      <td>259dac757896d24d7702b9acbbff3f3c</td>\n",
       "      <td>delivered</td>\n",
       "      <td>2018-03-13 16:06:38</td>\n",
       "      <td>1.0</td>\n",
       "      <td>credit_card</td>\n",
       "      <td>173.30</td>\n",
       "      <td>5.0</td>\n",
       "      <td>moveis_escritorio</td>\n",
       "    </tr>\n",
       "    <tr>\n",
       "      <th>4</th>\n",
       "      <td>345ecd01c38d18a9036ed96c73b8d066</td>\n",
       "      <td>delivered</td>\n",
       "      <td>2018-07-29 09:51:30</td>\n",
       "      <td>1.0</td>\n",
       "      <td>credit_card</td>\n",
       "      <td>252.25</td>\n",
       "      <td>5.0</td>\n",
       "      <td>casa_conforto</td>\n",
       "    </tr>\n",
       "    <tr>\n",
       "      <th>...</th>\n",
       "      <td>...</td>\n",
       "      <td>...</td>\n",
       "      <td>...</td>\n",
       "      <td>...</td>\n",
       "      <td>...</td>\n",
       "      <td>...</td>\n",
       "      <td>...</td>\n",
       "      <td>...</td>\n",
       "    </tr>\n",
       "    <tr>\n",
       "      <th>119138</th>\n",
       "      <td>1a29b476fee25c95fbafc67c5ac95cf8</td>\n",
       "      <td>delivered</td>\n",
       "      <td>2018-04-07 15:48:17</td>\n",
       "      <td>1.0</td>\n",
       "      <td>credit_card</td>\n",
       "      <td>88.78</td>\n",
       "      <td>4.0</td>\n",
       "      <td>livros_interesse_geral</td>\n",
       "    </tr>\n",
       "    <tr>\n",
       "      <th>119139</th>\n",
       "      <td>d52a67c98be1cf6a5c84435bd38d095d</td>\n",
       "      <td>delivered</td>\n",
       "      <td>2018-04-04 08:20:22</td>\n",
       "      <td>1.0</td>\n",
       "      <td>credit_card</td>\n",
       "      <td>129.06</td>\n",
       "      <td>5.0</td>\n",
       "      <td>esporte_lazer</td>\n",
       "    </tr>\n",
       "    <tr>\n",
       "      <th>119140</th>\n",
       "      <td>e9f50caf99f032f0bf3c55141f019d99</td>\n",
       "      <td>delivered</td>\n",
       "      <td>2018-04-08 20:11:50</td>\n",
       "      <td>1.0</td>\n",
       "      <td>credit_card</td>\n",
       "      <td>56.04</td>\n",
       "      <td>1.0</td>\n",
       "      <td>beleza_saude</td>\n",
       "    </tr>\n",
       "    <tr>\n",
       "      <th>119141</th>\n",
       "      <td>73c2643a0a458b49f58cea58833b192e</td>\n",
       "      <td>delivered</td>\n",
       "      <td>2017-11-03 21:08:33</td>\n",
       "      <td>1.0</td>\n",
       "      <td>credit_card</td>\n",
       "      <td>711.07</td>\n",
       "      <td>5.0</td>\n",
       "      <td>relogios_presentes</td>\n",
       "    </tr>\n",
       "    <tr>\n",
       "      <th>119142</th>\n",
       "      <td>84732c5050c01db9b23e19ba39899398</td>\n",
       "      <td>delivered</td>\n",
       "      <td>2017-12-19 14:27:23</td>\n",
       "      <td>1.0</td>\n",
       "      <td>credit_card</td>\n",
       "      <td>21.77</td>\n",
       "      <td>5.0</td>\n",
       "      <td>perfumaria</td>\n",
       "    </tr>\n",
       "  </tbody>\n",
       "</table>\n",
       "<p>119143 rows × 8 columns</p>\n",
       "</div>"
      ],
      "text/plain": [
       "                      customer_unique_id order_status  \\\n",
       "0       861eff4711a542e4b93843c6dd7febb0    delivered   \n",
       "1       290c77bc529b7ac935b93aa66c333dc3    delivered   \n",
       "2       060e732b5b29e8181a18229c7b0b2b5e    delivered   \n",
       "3       259dac757896d24d7702b9acbbff3f3c    delivered   \n",
       "4       345ecd01c38d18a9036ed96c73b8d066    delivered   \n",
       "...                                  ...          ...   \n",
       "119138  1a29b476fee25c95fbafc67c5ac95cf8    delivered   \n",
       "119139  d52a67c98be1cf6a5c84435bd38d095d    delivered   \n",
       "119140  e9f50caf99f032f0bf3c55141f019d99    delivered   \n",
       "119141  73c2643a0a458b49f58cea58833b192e    delivered   \n",
       "119142  84732c5050c01db9b23e19ba39899398    delivered   \n",
       "\n",
       "       order_purchase_timestamp  order_item_id payment_type  payment_value  \\\n",
       "0           2017-05-16 15:05:35            1.0  credit_card         146.87   \n",
       "1           2018-01-12 20:48:24            1.0  credit_card         335.48   \n",
       "2           2018-05-19 16:07:45            1.0  credit_card         157.73   \n",
       "3           2018-03-13 16:06:38            1.0  credit_card         173.30   \n",
       "4           2018-07-29 09:51:30            1.0  credit_card         252.25   \n",
       "...                         ...            ...          ...            ...   \n",
       "119138      2018-04-07 15:48:17            1.0  credit_card          88.78   \n",
       "119139      2018-04-04 08:20:22            1.0  credit_card         129.06   \n",
       "119140      2018-04-08 20:11:50            1.0  credit_card          56.04   \n",
       "119141      2017-11-03 21:08:33            1.0  credit_card         711.07   \n",
       "119142      2017-12-19 14:27:23            1.0  credit_card          21.77   \n",
       "\n",
       "        review_score   product_category_name  \n",
       "0                4.0       moveis_escritorio  \n",
       "1                5.0   utilidades_domesticas  \n",
       "2                5.0       moveis_escritorio  \n",
       "3                5.0       moveis_escritorio  \n",
       "4                5.0           casa_conforto  \n",
       "...              ...                     ...  \n",
       "119138           4.0  livros_interesse_geral  \n",
       "119139           5.0           esporte_lazer  \n",
       "119140           1.0            beleza_saude  \n",
       "119141           5.0      relogios_presentes  \n",
       "119142           5.0              perfumaria  \n",
       "\n",
       "[119143 rows x 8 columns]"
      ]
     },
     "execution_count": 740,
     "metadata": {},
     "output_type": "execute_result"
    }
   ],
   "source": [
    "data_finale"
   ]
  },
  {
   "cell_type": "code",
   "execution_count": 741,
   "metadata": {},
   "outputs": [
    {
     "data": {
      "text/html": [
       "<div>\n",
       "<style scoped>\n",
       "    .dataframe tbody tr th:only-of-type {\n",
       "        vertical-align: middle;\n",
       "    }\n",
       "\n",
       "    .dataframe tbody tr th {\n",
       "        vertical-align: top;\n",
       "    }\n",
       "\n",
       "    .dataframe thead th {\n",
       "        text-align: right;\n",
       "    }\n",
       "</style>\n",
       "<table border=\"1\" class=\"dataframe\">\n",
       "  <thead>\n",
       "    <tr style=\"text-align: right;\">\n",
       "      <th></th>\n",
       "      <th>order_item_id</th>\n",
       "      <th>payment_value</th>\n",
       "      <th>review_score</th>\n",
       "    </tr>\n",
       "  </thead>\n",
       "  <tbody>\n",
       "    <tr>\n",
       "      <th>count</th>\n",
       "      <td>118310.000000</td>\n",
       "      <td>119140.000000</td>\n",
       "      <td>118146.000000</td>\n",
       "    </tr>\n",
       "    <tr>\n",
       "      <th>mean</th>\n",
       "      <td>1.196543</td>\n",
       "      <td>172.735135</td>\n",
       "      <td>4.015582</td>\n",
       "    </tr>\n",
       "    <tr>\n",
       "      <th>std</th>\n",
       "      <td>0.699489</td>\n",
       "      <td>267.776077</td>\n",
       "      <td>1.400436</td>\n",
       "    </tr>\n",
       "    <tr>\n",
       "      <th>min</th>\n",
       "      <td>1.000000</td>\n",
       "      <td>0.000000</td>\n",
       "      <td>1.000000</td>\n",
       "    </tr>\n",
       "    <tr>\n",
       "      <th>25%</th>\n",
       "      <td>1.000000</td>\n",
       "      <td>60.850000</td>\n",
       "      <td>4.000000</td>\n",
       "    </tr>\n",
       "    <tr>\n",
       "      <th>50%</th>\n",
       "      <td>1.000000</td>\n",
       "      <td>108.160000</td>\n",
       "      <td>5.000000</td>\n",
       "    </tr>\n",
       "    <tr>\n",
       "      <th>75%</th>\n",
       "      <td>1.000000</td>\n",
       "      <td>189.240000</td>\n",
       "      <td>5.000000</td>\n",
       "    </tr>\n",
       "    <tr>\n",
       "      <th>max</th>\n",
       "      <td>21.000000</td>\n",
       "      <td>13664.080000</td>\n",
       "      <td>5.000000</td>\n",
       "    </tr>\n",
       "  </tbody>\n",
       "</table>\n",
       "</div>"
      ],
      "text/plain": [
       "       order_item_id  payment_value   review_score\n",
       "count  118310.000000  119140.000000  118146.000000\n",
       "mean        1.196543     172.735135       4.015582\n",
       "std         0.699489     267.776077       1.400436\n",
       "min         1.000000       0.000000       1.000000\n",
       "25%         1.000000      60.850000       4.000000\n",
       "50%         1.000000     108.160000       5.000000\n",
       "75%         1.000000     189.240000       5.000000\n",
       "max        21.000000   13664.080000       5.000000"
      ]
     },
     "execution_count": 741,
     "metadata": {},
     "output_type": "execute_result"
    }
   ],
   "source": [
    "data_finale.describe()"
   ]
  },
  {
   "cell_type": "code",
   "execution_count": 742,
   "metadata": {},
   "outputs": [
    {
     "data": {
      "text/plain": [
       "Text(0.5, 1.0, 'Corrélation entre les variables numériques')"
      ]
     },
     "execution_count": 742,
     "metadata": {},
     "output_type": "execute_result"
    },
    {
     "data": {
      "image/png": "[encoded data removed]",
      "text/plain": [
       "<Figure size 640x480 with 2 Axes>"
      ]
     },
     "metadata": {},
     "output_type": "display_data"
    }
   ],
   "source": [
    "corrDf = data_finale.corr()\n",
    "sns.heatmap(corrDf, \n",
    "        xticklabels=corrDf.columns,\n",
    "        yticklabels=corrDf.columns, cmap='coolwarm_r')\n",
    "plt.title('Corrélation entre les variables numériques')\n"
   ]
  },
  {
   "cell_type": "code",
   "execution_count": 743,
   "metadata": {},
   "outputs": [
    {
     "name": "stdout",
     "output_type": "stream",
     "text": [
      "                                  order_item_id  payment_value\n",
      "customer_unique_id                                            \n",
      "0000366f3b9a7992bf8c76cfdf3221e2              1         141.90\n",
      "0000b849f77a49e4a4ce2b2a4ca5be3f              1          27.19\n",
      "0000f46a3911fa3c0805444483337064              1          86.22\n",
      "0000f6ccb0745a6a4b88665a16c9f078              1          43.62\n",
      "0004aac84e0df4da2b147fca70cf8255              1         196.89\n",
      "...                                         ...            ...\n",
      "fffcf5a5ff07b0908bd4e2dbc735a684              2        4134.84\n",
      "fffea47cd6d3cc0a88bd621562a9d061              1          84.58\n",
      "ffff371b4d645b6ecea244b27531430a              1         112.46\n",
      "ffff5962728ec6157033ef9805bacc48              1         133.69\n",
      "ffffd2657e2aad2907e67c3e9daecbeb              1          71.56\n",
      "\n",
      "[96096 rows x 2 columns]\n"
     ]
    }
   ],
   "source": [
    "\n",
    "# Utilisez groupby pour grouper les données par customer_unique_id\n",
    "grouped_data = data_finale.groupby('customer_unique_id')\n",
    "\n",
    "# Utilisez la fonction aggregate pour calculer le nombre d'articles et la valeur de paiement par client\n",
    "aggregated = grouped_data.agg({'order_item_id': 'count', 'payment_value': 'sum'})\n",
    "\n",
    "# Afficher le résultat\n",
    "print(aggregated)"
   ]
  },
  {
   "cell_type": "code",
   "execution_count": 744,
   "metadata": {},
   "outputs": [],
   "source": [
    "data_finale=pd.merge(data_finale,aggregated,on='customer_unique_id',how='left')"
   ]
  },
  {
   "cell_type": "code",
   "execution_count": 745,
   "metadata": {},
   "outputs": [
    {
     "data": {
      "text/html": [
       "<div>\n",
       "<style scoped>\n",
       "    .dataframe tbody tr th:only-of-type {\n",
       "        vertical-align: middle;\n",
       "    }\n",
       "\n",
       "    .dataframe tbody tr th {\n",
       "        vertical-align: top;\n",
       "    }\n",
       "\n",
       "    .dataframe thead th {\n",
       "        text-align: right;\n",
       "    }\n",
       "</style>\n",
       "<table border=\"1\" class=\"dataframe\">\n",
       "  <thead>\n",
       "    <tr style=\"text-align: right;\">\n",
       "      <th></th>\n",
       "      <th>customer_unique_id</th>\n",
       "      <th>order_status</th>\n",
       "      <th>order_purchase_timestamp</th>\n",
       "      <th>order_item_id_x</th>\n",
       "      <th>payment_type</th>\n",
       "      <th>payment_value_x</th>\n",
       "      <th>review_score</th>\n",
       "      <th>product_category_name</th>\n",
       "      <th>order_item_id_y</th>\n",
       "      <th>payment_value_y</th>\n",
       "    </tr>\n",
       "  </thead>\n",
       "  <tbody>\n",
       "    <tr>\n",
       "      <th>0</th>\n",
       "      <td>861eff4711a542e4b93843c6dd7febb0</td>\n",
       "      <td>delivered</td>\n",
       "      <td>2017-05-16 15:05:35</td>\n",
       "      <td>1.0</td>\n",
       "      <td>credit_card</td>\n",
       "      <td>146.87</td>\n",
       "      <td>4.0</td>\n",
       "      <td>moveis_escritorio</td>\n",
       "      <td>1</td>\n",
       "      <td>146.87</td>\n",
       "    </tr>\n",
       "    <tr>\n",
       "      <th>1</th>\n",
       "      <td>290c77bc529b7ac935b93aa66c333dc3</td>\n",
       "      <td>delivered</td>\n",
       "      <td>2018-01-12 20:48:24</td>\n",
       "      <td>1.0</td>\n",
       "      <td>credit_card</td>\n",
       "      <td>335.48</td>\n",
       "      <td>5.0</td>\n",
       "      <td>utilidades_domesticas</td>\n",
       "      <td>1</td>\n",
       "      <td>335.48</td>\n",
       "    </tr>\n",
       "    <tr>\n",
       "      <th>2</th>\n",
       "      <td>060e732b5b29e8181a18229c7b0b2b5e</td>\n",
       "      <td>delivered</td>\n",
       "      <td>2018-05-19 16:07:45</td>\n",
       "      <td>1.0</td>\n",
       "      <td>credit_card</td>\n",
       "      <td>157.73</td>\n",
       "      <td>5.0</td>\n",
       "      <td>moveis_escritorio</td>\n",
       "      <td>1</td>\n",
       "      <td>157.73</td>\n",
       "    </tr>\n",
       "    <tr>\n",
       "      <th>3</th>\n",
       "      <td>259dac757896d24d7702b9acbbff3f3c</td>\n",
       "      <td>delivered</td>\n",
       "      <td>2018-03-13 16:06:38</td>\n",
       "      <td>1.0</td>\n",
       "      <td>credit_card</td>\n",
       "      <td>173.30</td>\n",
       "      <td>5.0</td>\n",
       "      <td>moveis_escritorio</td>\n",
       "      <td>1</td>\n",
       "      <td>173.30</td>\n",
       "    </tr>\n",
       "    <tr>\n",
       "      <th>4</th>\n",
       "      <td>345ecd01c38d18a9036ed96c73b8d066</td>\n",
       "      <td>delivered</td>\n",
       "      <td>2018-07-29 09:51:30</td>\n",
       "      <td>1.0</td>\n",
       "      <td>credit_card</td>\n",
       "      <td>252.25</td>\n",
       "      <td>5.0</td>\n",
       "      <td>casa_conforto</td>\n",
       "      <td>1</td>\n",
       "      <td>252.25</td>\n",
       "    </tr>\n",
       "    <tr>\n",
       "      <th>...</th>\n",
       "      <td>...</td>\n",
       "      <td>...</td>\n",
       "      <td>...</td>\n",
       "      <td>...</td>\n",
       "      <td>...</td>\n",
       "      <td>...</td>\n",
       "      <td>...</td>\n",
       "      <td>...</td>\n",
       "      <td>...</td>\n",
       "      <td>...</td>\n",
       "    </tr>\n",
       "    <tr>\n",
       "      <th>119138</th>\n",
       "      <td>1a29b476fee25c95fbafc67c5ac95cf8</td>\n",
       "      <td>delivered</td>\n",
       "      <td>2018-04-07 15:48:17</td>\n",
       "      <td>1.0</td>\n",
       "      <td>credit_card</td>\n",
       "      <td>88.78</td>\n",
       "      <td>4.0</td>\n",
       "      <td>livros_interesse_geral</td>\n",
       "      <td>1</td>\n",
       "      <td>88.78</td>\n",
       "    </tr>\n",
       "    <tr>\n",
       "      <th>119139</th>\n",
       "      <td>d52a67c98be1cf6a5c84435bd38d095d</td>\n",
       "      <td>delivered</td>\n",
       "      <td>2018-04-04 08:20:22</td>\n",
       "      <td>1.0</td>\n",
       "      <td>credit_card</td>\n",
       "      <td>129.06</td>\n",
       "      <td>5.0</td>\n",
       "      <td>esporte_lazer</td>\n",
       "      <td>1</td>\n",
       "      <td>129.06</td>\n",
       "    </tr>\n",
       "    <tr>\n",
       "      <th>119140</th>\n",
       "      <td>e9f50caf99f032f0bf3c55141f019d99</td>\n",
       "      <td>delivered</td>\n",
       "      <td>2018-04-08 20:11:50</td>\n",
       "      <td>1.0</td>\n",
       "      <td>credit_card</td>\n",
       "      <td>56.04</td>\n",
       "      <td>1.0</td>\n",
       "      <td>beleza_saude</td>\n",
       "      <td>1</td>\n",
       "      <td>56.04</td>\n",
       "    </tr>\n",
       "    <tr>\n",
       "      <th>119141</th>\n",
       "      <td>73c2643a0a458b49f58cea58833b192e</td>\n",
       "      <td>delivered</td>\n",
       "      <td>2017-11-03 21:08:33</td>\n",
       "      <td>1.0</td>\n",
       "      <td>credit_card</td>\n",
       "      <td>711.07</td>\n",
       "      <td>5.0</td>\n",
       "      <td>relogios_presentes</td>\n",
       "      <td>1</td>\n",
       "      <td>711.07</td>\n",
       "    </tr>\n",
       "    <tr>\n",
       "      <th>119142</th>\n",
       "      <td>84732c5050c01db9b23e19ba39899398</td>\n",
       "      <td>delivered</td>\n",
       "      <td>2017-12-19 14:27:23</td>\n",
       "      <td>1.0</td>\n",
       "      <td>credit_card</td>\n",
       "      <td>21.77</td>\n",
       "      <td>5.0</td>\n",
       "      <td>perfumaria</td>\n",
       "      <td>1</td>\n",
       "      <td>21.77</td>\n",
       "    </tr>\n",
       "  </tbody>\n",
       "</table>\n",
       "<p>119143 rows × 10 columns</p>\n",
       "</div>"
      ],
      "text/plain": [
       "                      customer_unique_id order_status  \\\n",
       "0       861eff4711a542e4b93843c6dd7febb0    delivered   \n",
       "1       290c77bc529b7ac935b93aa66c333dc3    delivered   \n",
       "2       060e732b5b29e8181a18229c7b0b2b5e    delivered   \n",
       "3       259dac757896d24d7702b9acbbff3f3c    delivered   \n",
       "4       345ecd01c38d18a9036ed96c73b8d066    delivered   \n",
       "...                                  ...          ...   \n",
       "119138  1a29b476fee25c95fbafc67c5ac95cf8    delivered   \n",
       "119139  d52a67c98be1cf6a5c84435bd38d095d    delivered   \n",
       "119140  e9f50caf99f032f0bf3c55141f019d99    delivered   \n",
       "119141  73c2643a0a458b49f58cea58833b192e    delivered   \n",
       "119142  84732c5050c01db9b23e19ba39899398    delivered   \n",
       "\n",
       "       order_purchase_timestamp  order_item_id_x payment_type  \\\n",
       "0           2017-05-16 15:05:35              1.0  credit_card   \n",
       "1           2018-01-12 20:48:24              1.0  credit_card   \n",
       "2           2018-05-19 16:07:45              1.0  credit_card   \n",
       "3           2018-03-13 16:06:38              1.0  credit_card   \n",
       "4           2018-07-29 09:51:30              1.0  credit_card   \n",
       "...                         ...              ...          ...   \n",
       "119138      2018-04-07 15:48:17              1.0  credit_card   \n",
       "119139      2018-04-04 08:20:22              1.0  credit_card   \n",
       "119140      2018-04-08 20:11:50              1.0  credit_card   \n",
       "119141      2017-11-03 21:08:33              1.0  credit_card   \n",
       "119142      2017-12-19 14:27:23              1.0  credit_card   \n",
       "\n",
       "        payment_value_x  review_score   product_category_name  \\\n",
       "0                146.87           4.0       moveis_escritorio   \n",
       "1                335.48           5.0   utilidades_domesticas   \n",
       "2                157.73           5.0       moveis_escritorio   \n",
       "3                173.30           5.0       moveis_escritorio   \n",
       "4                252.25           5.0           casa_conforto   \n",
       "...                 ...           ...                     ...   \n",
       "119138            88.78           4.0  livros_interesse_geral   \n",
       "119139           129.06           5.0           esporte_lazer   \n",
       "119140            56.04           1.0            beleza_saude   \n",
       "119141           711.07           5.0      relogios_presentes   \n",
       "119142            21.77           5.0              perfumaria   \n",
       "\n",
       "        order_item_id_y  payment_value_y  \n",
       "0                     1           146.87  \n",
       "1                     1           335.48  \n",
       "2                     1           157.73  \n",
       "3                     1           173.30  \n",
       "4                     1           252.25  \n",
       "...                 ...              ...  \n",
       "119138                1            88.78  \n",
       "119139                1           129.06  \n",
       "119140                1            56.04  \n",
       "119141                1           711.07  \n",
       "119142                1            21.77  \n",
       "\n",
       "[119143 rows x 10 columns]"
      ]
     },
     "execution_count": 745,
     "metadata": {},
     "output_type": "execute_result"
    }
   ],
   "source": [
    "data_finale"
   ]
  },
  {
   "cell_type": "code",
   "execution_count": 746,
   "metadata": {},
   "outputs": [],
   "source": [
    "data_finale.drop(['order_item_id_y','payment_value_y'],axis=1,inplace=True)"
   ]
  },
  {
   "cell_type": "code",
   "execution_count": 747,
   "metadata": {},
   "outputs": [],
   "source": [
    "data_finale['review_score']=data_finale['review_score'].dropna()"
   ]
  },
  {
   "cell_type": "code",
   "execution_count": 748,
   "metadata": {},
   "outputs": [],
   "source": [
    "data_finale=data_finale.drop(['order_status'],axis=1)"
   ]
  },
  {
   "attachments": {},
   "cell_type": "markdown",
   "metadata": {},
   "source": [
    "## Recence"
   ]
  },
  {
   "cell_type": "code",
   "execution_count": 749,
   "metadata": {},
   "outputs": [],
   "source": [
    "data_finale['order_purchase_timestamp']=pd.to_datetime(data_finale['order_purchase_timestamp'])\n",
    "current_date = data_finale['order_purchase_timestamp'].max() + timedelta(days = 1)\n"
   ]
  },
  {
   "cell_type": "code",
   "execution_count": 750,
   "metadata": {},
   "outputs": [],
   "source": [
    "data_finale['recency'] = data_finale['order_purchase_timestamp'].apply(lambda x: (current_date - x).days)"
   ]
  },
  {
   "attachments": {},
   "cell_type": "markdown",
   "metadata": {},
   "source": [
    "## Fréquence"
   ]
  },
  {
   "cell_type": "code",
   "execution_count": 751,
   "metadata": {},
   "outputs": [],
   "source": [
    "data_finale[\"one\"]=1"
   ]
  },
  {
   "cell_type": "code",
   "execution_count": 752,
   "metadata": {},
   "outputs": [],
   "source": [
    "data_freq = data_finale.groupby(data_finale.customer_unique_id).sum()"
   ]
  },
  {
   "cell_type": "code",
   "execution_count": 753,
   "metadata": {},
   "outputs": [],
   "source": [
    "data_freq.reset_index(inplace=True)"
   ]
  },
  {
   "cell_type": "code",
   "execution_count": 754,
   "metadata": {},
   "outputs": [
    {
     "data": {
      "text/plain": [
       "Index(['customer_unique_id', 'order_item_id_x', 'payment_value_x',\n",
       "       'review_score', 'recency', 'one'],\n",
       "      dtype='object')"
      ]
     },
     "execution_count": 754,
     "metadata": {},
     "output_type": "execute_result"
    }
   ],
   "source": [
    "data_freq.columns"
   ]
  },
  {
   "cell_type": "code",
   "execution_count": 755,
   "metadata": {},
   "outputs": [],
   "source": [
    "data_freq = data_freq[['customer_unique_id', 'one']]"
   ]
  },
  {
   "cell_type": "code",
   "execution_count": 756,
   "metadata": {},
   "outputs": [],
   "source": [
    "data_finale=pd.merge(data_finale,data_freq,left_on='customer_unique_id',right_on='customer_unique_id',how='left')"
   ]
  },
  {
   "cell_type": "code",
   "execution_count": 757,
   "metadata": {},
   "outputs": [],
   "source": [
    "data_finale.drop(['one_x'],axis=1,inplace=True)"
   ]
  },
  {
   "cell_type": "code",
   "execution_count": 758,
   "metadata": {},
   "outputs": [],
   "source": [
    "\n",
    "data_finale=data_finale.rename(columns = {'one_y': 'frequency'}) "
   ]
  },
  {
   "cell_type": "code",
   "execution_count": 759,
   "metadata": {},
   "outputs": [
    {
     "data": {
      "text/plain": [
       "array([ 1,  2,  3,  6,  5,  4,  8, 11,  9,  7, 13, 10, 12, 35, 14, 15, 19,\n",
       "       17, 24, 20, 75, 22, 29, 18, 21, 38, 16, 26])"
      ]
     },
     "execution_count": 759,
     "metadata": {},
     "output_type": "execute_result"
    }
   ],
   "source": [
    "data_finale['frequency'].unique()"
   ]
  },
  {
   "attachments": {},
   "cell_type": "markdown",
   "metadata": {},
   "source": [
    "## Montant"
   ]
  },
  {
   "cell_type": "code",
   "execution_count": 760,
   "metadata": {},
   "outputs": [],
   "source": [
    "data_finale['Montant'] =data_finale['payment_value_x']\n",
    "\n",
    "# Utilisez la fonction aggregate pour calculer le nombre d'articles et la valeur de paiement par client\n"
   ]
  },
  {
   "cell_type": "code",
   "execution_count": 761,
   "metadata": {},
   "outputs": [
    {
     "data": {
      "text/html": [
       "<div>\n",
       "<style scoped>\n",
       "    .dataframe tbody tr th:only-of-type {\n",
       "        vertical-align: middle;\n",
       "    }\n",
       "\n",
       "    .dataframe tbody tr th {\n",
       "        vertical-align: top;\n",
       "    }\n",
       "\n",
       "    .dataframe thead th {\n",
       "        text-align: right;\n",
       "    }\n",
       "</style>\n",
       "<table border=\"1\" class=\"dataframe\">\n",
       "  <thead>\n",
       "    <tr style=\"text-align: right;\">\n",
       "      <th></th>\n",
       "      <th>customer_unique_id</th>\n",
       "      <th>order_purchase_timestamp</th>\n",
       "      <th>order_item_id_x</th>\n",
       "      <th>payment_type</th>\n",
       "      <th>payment_value_x</th>\n",
       "      <th>review_score</th>\n",
       "      <th>product_category_name</th>\n",
       "      <th>recency</th>\n",
       "      <th>frequency</th>\n",
       "      <th>Montant</th>\n",
       "    </tr>\n",
       "  </thead>\n",
       "  <tbody>\n",
       "    <tr>\n",
       "      <th>0</th>\n",
       "      <td>861eff4711a542e4b93843c6dd7febb0</td>\n",
       "      <td>2017-05-16 15:05:35</td>\n",
       "      <td>1.0</td>\n",
       "      <td>credit_card</td>\n",
       "      <td>146.87</td>\n",
       "      <td>4.0</td>\n",
       "      <td>moveis_escritorio</td>\n",
       "      <td>520</td>\n",
       "      <td>1</td>\n",
       "      <td>146.87</td>\n",
       "    </tr>\n",
       "    <tr>\n",
       "      <th>1</th>\n",
       "      <td>290c77bc529b7ac935b93aa66c333dc3</td>\n",
       "      <td>2018-01-12 20:48:24</td>\n",
       "      <td>1.0</td>\n",
       "      <td>credit_card</td>\n",
       "      <td>335.48</td>\n",
       "      <td>5.0</td>\n",
       "      <td>utilidades_domesticas</td>\n",
       "      <td>278</td>\n",
       "      <td>1</td>\n",
       "      <td>335.48</td>\n",
       "    </tr>\n",
       "    <tr>\n",
       "      <th>2</th>\n",
       "      <td>060e732b5b29e8181a18229c7b0b2b5e</td>\n",
       "      <td>2018-05-19 16:07:45</td>\n",
       "      <td>1.0</td>\n",
       "      <td>credit_card</td>\n",
       "      <td>157.73</td>\n",
       "      <td>5.0</td>\n",
       "      <td>moveis_escritorio</td>\n",
       "      <td>152</td>\n",
       "      <td>1</td>\n",
       "      <td>157.73</td>\n",
       "    </tr>\n",
       "    <tr>\n",
       "      <th>3</th>\n",
       "      <td>259dac757896d24d7702b9acbbff3f3c</td>\n",
       "      <td>2018-03-13 16:06:38</td>\n",
       "      <td>1.0</td>\n",
       "      <td>credit_card</td>\n",
       "      <td>173.30</td>\n",
       "      <td>5.0</td>\n",
       "      <td>moveis_escritorio</td>\n",
       "      <td>219</td>\n",
       "      <td>1</td>\n",
       "      <td>173.30</td>\n",
       "    </tr>\n",
       "    <tr>\n",
       "      <th>4</th>\n",
       "      <td>345ecd01c38d18a9036ed96c73b8d066</td>\n",
       "      <td>2018-07-29 09:51:30</td>\n",
       "      <td>1.0</td>\n",
       "      <td>credit_card</td>\n",
       "      <td>252.25</td>\n",
       "      <td>5.0</td>\n",
       "      <td>casa_conforto</td>\n",
       "      <td>81</td>\n",
       "      <td>1</td>\n",
       "      <td>252.25</td>\n",
       "    </tr>\n",
       "    <tr>\n",
       "      <th>...</th>\n",
       "      <td>...</td>\n",
       "      <td>...</td>\n",
       "      <td>...</td>\n",
       "      <td>...</td>\n",
       "      <td>...</td>\n",
       "      <td>...</td>\n",
       "      <td>...</td>\n",
       "      <td>...</td>\n",
       "      <td>...</td>\n",
       "      <td>...</td>\n",
       "    </tr>\n",
       "    <tr>\n",
       "      <th>119138</th>\n",
       "      <td>1a29b476fee25c95fbafc67c5ac95cf8</td>\n",
       "      <td>2018-04-07 15:48:17</td>\n",
       "      <td>1.0</td>\n",
       "      <td>credit_card</td>\n",
       "      <td>88.78</td>\n",
       "      <td>4.0</td>\n",
       "      <td>livros_interesse_geral</td>\n",
       "      <td>194</td>\n",
       "      <td>1</td>\n",
       "      <td>88.78</td>\n",
       "    </tr>\n",
       "    <tr>\n",
       "      <th>119139</th>\n",
       "      <td>d52a67c98be1cf6a5c84435bd38d095d</td>\n",
       "      <td>2018-04-04 08:20:22</td>\n",
       "      <td>1.0</td>\n",
       "      <td>credit_card</td>\n",
       "      <td>129.06</td>\n",
       "      <td>5.0</td>\n",
       "      <td>esporte_lazer</td>\n",
       "      <td>197</td>\n",
       "      <td>1</td>\n",
       "      <td>129.06</td>\n",
       "    </tr>\n",
       "    <tr>\n",
       "      <th>119140</th>\n",
       "      <td>e9f50caf99f032f0bf3c55141f019d99</td>\n",
       "      <td>2018-04-08 20:11:50</td>\n",
       "      <td>1.0</td>\n",
       "      <td>credit_card</td>\n",
       "      <td>56.04</td>\n",
       "      <td>1.0</td>\n",
       "      <td>beleza_saude</td>\n",
       "      <td>192</td>\n",
       "      <td>1</td>\n",
       "      <td>56.04</td>\n",
       "    </tr>\n",
       "    <tr>\n",
       "      <th>119141</th>\n",
       "      <td>73c2643a0a458b49f58cea58833b192e</td>\n",
       "      <td>2017-11-03 21:08:33</td>\n",
       "      <td>1.0</td>\n",
       "      <td>credit_card</td>\n",
       "      <td>711.07</td>\n",
       "      <td>5.0</td>\n",
       "      <td>relogios_presentes</td>\n",
       "      <td>348</td>\n",
       "      <td>1</td>\n",
       "      <td>711.07</td>\n",
       "    </tr>\n",
       "    <tr>\n",
       "      <th>119142</th>\n",
       "      <td>84732c5050c01db9b23e19ba39899398</td>\n",
       "      <td>2017-12-19 14:27:23</td>\n",
       "      <td>1.0</td>\n",
       "      <td>credit_card</td>\n",
       "      <td>21.77</td>\n",
       "      <td>5.0</td>\n",
       "      <td>perfumaria</td>\n",
       "      <td>303</td>\n",
       "      <td>1</td>\n",
       "      <td>21.77</td>\n",
       "    </tr>\n",
       "  </tbody>\n",
       "</table>\n",
       "<p>119143 rows × 10 columns</p>\n",
       "</div>"
      ],
      "text/plain": [
       "                      customer_unique_id order_purchase_timestamp  \\\n",
       "0       861eff4711a542e4b93843c6dd7febb0      2017-05-16 15:05:35   \n",
       "1       290c77bc529b7ac935b93aa66c333dc3      2018-01-12 20:48:24   \n",
       "2       060e732b5b29e8181a18229c7b0b2b5e      2018-05-19 16:07:45   \n",
       "3       259dac757896d24d7702b9acbbff3f3c      2018-03-13 16:06:38   \n",
       "4       345ecd01c38d18a9036ed96c73b8d066      2018-07-29 09:51:30   \n",
       "...                                  ...                      ...   \n",
       "119138  1a29b476fee25c95fbafc67c5ac95cf8      2018-04-07 15:48:17   \n",
       "119139  d52a67c98be1cf6a5c84435bd38d095d      2018-04-04 08:20:22   \n",
       "119140  e9f50caf99f032f0bf3c55141f019d99      2018-04-08 20:11:50   \n",
       "119141  73c2643a0a458b49f58cea58833b192e      2017-11-03 21:08:33   \n",
       "119142  84732c5050c01db9b23e19ba39899398      2017-12-19 14:27:23   \n",
       "\n",
       "        order_item_id_x payment_type  payment_value_x  review_score  \\\n",
       "0                   1.0  credit_card           146.87           4.0   \n",
       "1                   1.0  credit_card           335.48           5.0   \n",
       "2                   1.0  credit_card           157.73           5.0   \n",
       "3                   1.0  credit_card           173.30           5.0   \n",
       "4                   1.0  credit_card           252.25           5.0   \n",
       "...                 ...          ...              ...           ...   \n",
       "119138              1.0  credit_card            88.78           4.0   \n",
       "119139              1.0  credit_card           129.06           5.0   \n",
       "119140              1.0  credit_card            56.04           1.0   \n",
       "119141              1.0  credit_card           711.07           5.0   \n",
       "119142              1.0  credit_card            21.77           5.0   \n",
       "\n",
       "         product_category_name  recency  frequency  Montant  \n",
       "0            moveis_escritorio      520          1   146.87  \n",
       "1        utilidades_domesticas      278          1   335.48  \n",
       "2            moveis_escritorio      152          1   157.73  \n",
       "3            moveis_escritorio      219          1   173.30  \n",
       "4                casa_conforto       81          1   252.25  \n",
       "...                        ...      ...        ...      ...  \n",
       "119138  livros_interesse_geral      194          1    88.78  \n",
       "119139           esporte_lazer      197          1   129.06  \n",
       "119140            beleza_saude      192          1    56.04  \n",
       "119141      relogios_presentes      348          1   711.07  \n",
       "119142              perfumaria      303          1    21.77  \n",
       "\n",
       "[119143 rows x 10 columns]"
      ]
     },
     "execution_count": 761,
     "metadata": {},
     "output_type": "execute_result"
    }
   ],
   "source": [
    "data_finale"
   ]
  },
  {
   "cell_type": "code",
   "execution_count": 762,
   "metadata": {},
   "outputs": [],
   "source": [
    "from collections import Counter"
   ]
  },
  {
   "cell_type": "code",
   "execution_count": 763,
   "metadata": {},
   "outputs": [],
   "source": [
    "translator = {'beleza_saude': 'health_beauty',\n",
    " 'informatica_acessorios': 'computers_accessories',\n",
    " 'automotivo': 'auto',\n",
    " 'cama_mesa_banho': 'bed_bath_table',\n",
    " 'moveis_decoracao': 'furniture_decor',\n",
    " 'esporte_lazer': 'sports_leisure',\n",
    " 'perfumaria': 'perfumery',\n",
    " 'utilidades_domesticas': 'housewares',\n",
    " 'telefonia': 'telephony',\n",
    " 'relogios_presentes': 'watches_gifts',\n",
    " 'alimentos_bebidas': 'food_drink',\n",
    " 'bebes': 'baby',\n",
    " 'papelaria': 'stationery',\n",
    " 'tablets_impressao_imagem': 'tablets_printing_image',\n",
    " 'brinquedos': 'toys',\n",
    " 'telefonia_fixa': 'fixed_telephony',\n",
    " 'ferramentas_jardim': 'garden_tools',\n",
    " 'fashion_bolsas_e_acessorios': 'fashion_bags_accessories',\n",
    " 'eletroportateis': 'small_appliances',\n",
    " 'consoles_games': 'consoles_games',\n",
    " 'audio': 'audio',\n",
    " 'fashion_calcados': 'fashion_shoes',\n",
    " 'cool_stuff': 'cool_stuff',\n",
    " 'malas_acessorios': 'luggage_accessories',\n",
    " 'climatizacao': 'air_conditioning',\n",
    " 'construcao_ferramentas_construcao': 'construction_tools_construction',\n",
    " 'moveis_cozinha_area_de_servico_jantar_e_jardim': 'kitchen_dining_laundry_garden_furniture',\n",
    " 'construcao_ferramentas_jardim': 'costruction_tools_garden',\n",
    " 'fashion_roupa_masculina': 'fashion_male_clothing',\n",
    " 'pet_shop': 'pet_shop',\n",
    " 'moveis_escritorio': 'office_furniture',\n",
    " 'market_place': 'market_place',\n",
    " 'eletronicos': 'electronics',\n",
    " 'eletrodomesticos': 'home_appliances',\n",
    " 'artigos_de_festas': 'party_supplies',\n",
    " 'casa_conforto': 'home_confort',\n",
    "'construcao_ferramentas_ferramentas': 'costruction_tools_tools',\n",
    " 'agro_industria_e_comercio': 'agro_industry_and_commerce',\n",
    " 'moveis_colchao_e_estofado': 'furniture_mattress_and_upholstery',\n",
    " 'livros_tecnicos': 'books_technical',\n",
    " 'casa_construcao': 'home_construction',\n",
    " 'instrumentos_musicais': 'musical_instruments',\n",
    " 'moveis_sala': 'furniture_living_room',\n",
    " 'construcao_ferramentas_iluminacao': 'construction_tools_lights',\n",
    " 'industria_comercio_e_negocios': 'industry_commerce_and_business',\n",
    " 'alimentos': 'food',\n",
    " 'artes': 'art',\n",
    " 'moveis_quarto': 'furniture_bedroom',\n",
    " 'livros_interesse_geral': 'books_general_interest',\n",
    " 'construcao_ferramentas_seguranca': 'construction_tools_safety',\n",
    " 'fashion_underwear_e_moda_praia': 'fashion_underwear_beach',\n",
    " 'fashion_esporte': 'fashion_sport',\n",
    " 'sinalizacao_e_seguranca': 'signaling_and_security',\n",
    " 'pcs': 'computers',\n",
    " 'artigos_de_natal': 'christmas_supplies',\n",
    " 'fashion_roupa_feminina': 'fashio_female_clothing',\n",
    " 'eletrodomesticos_2': 'home_appliances_2',\n",
    " 'livros_importados': 'books_imported',\n",
    " 'bebidas': 'drinks',\n",
    " 'cine_foto': 'cine_photo',\n",
    " 'la_cuisine': 'la_cuisine',\n",
    " 'musica': 'music',\n",
    " 'casa_conforto_2': 'home_comfort_2',\n",
    " 'portateis_casa_forno_e_cafe': 'small_appliances_home_oven_and_coffee',\n",
    " 'cds_dvds_musicais': 'cds_dvds_musicals',\n",
    " 'dvds_blu_ray': 'dvds_blu_ray',\n",
    " 'flores': 'flowers',\n",
    " 'artes_e_artesanato': 'arts_and_craftmanship',\n",
    " 'fraldas_higiene': 'diapers_and_hygiene',\n",
    " 'fashion_roupa_infanto_juvenil': 'fashion_childrens_clothes',\n",
    " 'seguros_e_servicos': 'security_and_services',\n",
    " 'portateis_cozinha_e_preparadores_de_alimentos': 'portable_kitchen_food_preparers',\n",
    " 'pc_gamer': 'pc_gamer'}\n",
    "\n",
    "# Traduire la colonne des catégories\n",
    "\n",
    "data_finale[\"product_category_name\"] = data_finale[\"product_category_name\"].map(translator)\n",
    "\n",
    "data_finale[\"product_category_name\"]\n",
    "\n",
    "categories = {\n",
    "\n",
    " 'health_beauty': 'Health_Beauty',\n",
    " 'perfumery': 'Health_Beauty',\n",
    " 'computers': 'Technology',\n",
    " 'pc_gamer' : 'Technology',\n",
    " 'computers_accessories': 'Technology',\n",
    " 'electronics': 'Technology',\n",
    " 'tablets_printing_image': 'Technology',\n",
    " 'telephony': 'Technology',\n",
    " 'fixed_telephony': 'Technology',\n",
    " 'auto': 'Automotive',\n",
    " 'small_appliances_home_oven_and_coffee': 'Home',\n",
    " 'home_comfort_2': 'Home',\n",
    " 'home_appliances_2': 'Home',\n",
    " 'home_confort': 'Home',\n",
    " 'air_conditioning': 'Home',\n",
    " 'small_appliances': 'Home',\n",
    " 'bed_bath_table': 'Home',\n",
    " 'furniture_decor': 'Home',\n",
    " 'housewares': 'Home',\n",
    " 'home_appliances': 'Home',\n",
    " 'home_comfort': 'Home',\n",
    " 'kitchen_dining_laundry_garden_furniture': 'Home',\n",
    " 'portable_kitchen_food_preparers' : 'Home',\n",
    " 'fashio_female_clothing': 'Fashion_Accessories',\n",
    " 'luggage_accessories': 'Fashion_Accessories',\n",
    " 'fashion_bags_accessories': 'Fashion_Accessories',\n",
    " 'fashion_shoes': 'Fashion_Accessories',\n",
    " 'watches_gifts': 'Fashion_Accessories',\n",
    " 'fashion_male_clothing': 'Fashion_Accessories',\n",
    " 'fashion_female_clothing': 'Fashion_Accessories',\n",
    " 'fashion_childrens_clothes': 'Fashion_Accessories',\n",
    " 'fashion_underwear_beach': 'Fashion_Accessories',\n",
    " 'fashion_sport': 'Fashion_Accessories',\n",
    " 'sports_leisure': 'Sports_Leisure',\n",
    " 'food_drink': 'Food_Beverage',\n",
    " 'la_cuisine': 'Food_Beverage',\n",
    " 'food': 'Food_Beverage',\n",
    " 'drinks': 'Food_Beverage',\n",
    " 'baby': 'Baby',\n",
    " 'diapers_and_hygiene': 'Baby',\n",
    " 'stationery': 'Office_Supplies',\n",
    " 'office_furniture': 'Office_Supplies',\n",
    " 'flowers': 'Gardening',\n",
    " 'costruction_tools_garden': 'Gardening',\n",
    " 'books_general_interest': 'Books',\n",
    " 'books_technical': 'Books',\n",
    " 'books_imported': 'Books',\n",
    "'cds_dvds_musicals': 'Books',\n",
    " 'dvds_blu_ray': 'Books',\n",
    " 'art': 'Arts_Music',\n",
    " 'audio': 'Arts_Music',\n",
    " 'music': 'Arts_Music',\n",
    " 'arts_and_craftmanship': 'Arts_Music',\n",
    " 'cine_photo': 'Arts_Music',\n",
    " 'musical_instruments': 'Arts_Music',\n",
    " 'toys': 'Toys_Games',\n",
    " 'consoles_games': 'Toys_Games',\n",
    " 'cool_stuff': 'Toys_Games',\n",
    " 'party_supplies': 'Party_Supplies',\n",
    " 'christmas_supplies': 'Party_Supplies',\n",
    " 'home_construction': 'Construction_Tools',\n",
    " 'costruction_tools_tools': 'Construction_Tools',\n",
    " 'construction_tools_construction': 'Construction_Tools',\n",
    " 'garden_tools': 'Construction_Tools',\n",
    " 'construction_tools_lights': 'Construction_Tools',\n",
    " 'construction_tools_safety': 'Construction_Tools',\n",
    " 'pet_shop': 'Pet_Supplies',\n",
    " 'industry_commerce_and_business': 'Agro_Industry_Commerce',\n",
    " 'agro_industry_and_commerce': 'Agro_Industry_Commerce',\n",
    " 'furniture_mattress_and_upholstery': 'Furniture',\n",
    " 'furniture_living_room': 'Furniture',\n",
    " 'furniture_bedroom': 'Furniture',\n",
    " 'market_place': 'Market_place',\n",
    " 'signaling_and_security': 'Signaling_Security',\n",
    " 'security_and_services': 'Signaling_Security'\n",
    " \n",
    " }\n",
    "\n",
    "\n",
    "\n",
    "\n",
    "data_finale[\"product_category_name\"] = data_finale[\"product_category_name\"].map(categories)\n",
    "\n"
   ]
  },
  {
   "cell_type": "code",
   "execution_count": 764,
   "metadata": {},
   "outputs": [],
   "source": [
    "data_finale['product_category_name'].fillna('unknown',inplace=True)"
   ]
  },
  {
   "cell_type": "code",
   "execution_count": 765,
   "metadata": {},
   "outputs": [
    {
     "data": {
      "text/plain": [
       "Index(['customer_unique_id', 'order_purchase_timestamp', 'order_item_id_x',\n",
       "       'payment_type', 'payment_value_x', 'review_score',\n",
       "       'product_category_name', 'recency', 'frequency', 'Montant'],\n",
       "      dtype='object')"
      ]
     },
     "execution_count": 765,
     "metadata": {},
     "output_type": "execute_result"
    }
   ],
   "source": [
    "data_finale.columns"
   ]
  },
  {
   "cell_type": "code",
   "execution_count": 766,
   "metadata": {},
   "outputs": [
    {
     "data": {
      "text/html": [
       "<div>\n",
       "<style scoped>\n",
       "    .dataframe tbody tr th:only-of-type {\n",
       "        vertical-align: middle;\n",
       "    }\n",
       "\n",
       "    .dataframe tbody tr th {\n",
       "        vertical-align: top;\n",
       "    }\n",
       "\n",
       "    .dataframe thead th {\n",
       "        text-align: right;\n",
       "    }\n",
       "</style>\n",
       "<table border=\"1\" class=\"dataframe\">\n",
       "  <thead>\n",
       "    <tr style=\"text-align: right;\">\n",
       "      <th></th>\n",
       "      <th>customer_unique_id</th>\n",
       "      <th>order_purchase_timestamp</th>\n",
       "      <th>order_item_id_x</th>\n",
       "      <th>payment_type</th>\n",
       "      <th>payment_value_x</th>\n",
       "      <th>review_score</th>\n",
       "      <th>product_category_name</th>\n",
       "      <th>recency</th>\n",
       "      <th>frequency</th>\n",
       "      <th>Montant</th>\n",
       "    </tr>\n",
       "  </thead>\n",
       "  <tbody>\n",
       "    <tr>\n",
       "      <th>0</th>\n",
       "      <td>861eff4711a542e4b93843c6dd7febb0</td>\n",
       "      <td>2017-05-16 15:05:35</td>\n",
       "      <td>1.0</td>\n",
       "      <td>credit_card</td>\n",
       "      <td>146.87</td>\n",
       "      <td>4.0</td>\n",
       "      <td>Office_Supplies</td>\n",
       "      <td>520</td>\n",
       "      <td>1</td>\n",
       "      <td>146.87</td>\n",
       "    </tr>\n",
       "    <tr>\n",
       "      <th>1</th>\n",
       "      <td>290c77bc529b7ac935b93aa66c333dc3</td>\n",
       "      <td>2018-01-12 20:48:24</td>\n",
       "      <td>1.0</td>\n",
       "      <td>credit_card</td>\n",
       "      <td>335.48</td>\n",
       "      <td>5.0</td>\n",
       "      <td>Home</td>\n",
       "      <td>278</td>\n",
       "      <td>1</td>\n",
       "      <td>335.48</td>\n",
       "    </tr>\n",
       "    <tr>\n",
       "      <th>2</th>\n",
       "      <td>060e732b5b29e8181a18229c7b0b2b5e</td>\n",
       "      <td>2018-05-19 16:07:45</td>\n",
       "      <td>1.0</td>\n",
       "      <td>credit_card</td>\n",
       "      <td>157.73</td>\n",
       "      <td>5.0</td>\n",
       "      <td>Office_Supplies</td>\n",
       "      <td>152</td>\n",
       "      <td>1</td>\n",
       "      <td>157.73</td>\n",
       "    </tr>\n",
       "    <tr>\n",
       "      <th>3</th>\n",
       "      <td>259dac757896d24d7702b9acbbff3f3c</td>\n",
       "      <td>2018-03-13 16:06:38</td>\n",
       "      <td>1.0</td>\n",
       "      <td>credit_card</td>\n",
       "      <td>173.30</td>\n",
       "      <td>5.0</td>\n",
       "      <td>Office_Supplies</td>\n",
       "      <td>219</td>\n",
       "      <td>1</td>\n",
       "      <td>173.30</td>\n",
       "    </tr>\n",
       "    <tr>\n",
       "      <th>4</th>\n",
       "      <td>345ecd01c38d18a9036ed96c73b8d066</td>\n",
       "      <td>2018-07-29 09:51:30</td>\n",
       "      <td>1.0</td>\n",
       "      <td>credit_card</td>\n",
       "      <td>252.25</td>\n",
       "      <td>5.0</td>\n",
       "      <td>Home</td>\n",
       "      <td>81</td>\n",
       "      <td>1</td>\n",
       "      <td>252.25</td>\n",
       "    </tr>\n",
       "    <tr>\n",
       "      <th>...</th>\n",
       "      <td>...</td>\n",
       "      <td>...</td>\n",
       "      <td>...</td>\n",
       "      <td>...</td>\n",
       "      <td>...</td>\n",
       "      <td>...</td>\n",
       "      <td>...</td>\n",
       "      <td>...</td>\n",
       "      <td>...</td>\n",
       "      <td>...</td>\n",
       "    </tr>\n",
       "    <tr>\n",
       "      <th>119138</th>\n",
       "      <td>1a29b476fee25c95fbafc67c5ac95cf8</td>\n",
       "      <td>2018-04-07 15:48:17</td>\n",
       "      <td>1.0</td>\n",
       "      <td>credit_card</td>\n",
       "      <td>88.78</td>\n",
       "      <td>4.0</td>\n",
       "      <td>Books</td>\n",
       "      <td>194</td>\n",
       "      <td>1</td>\n",
       "      <td>88.78</td>\n",
       "    </tr>\n",
       "    <tr>\n",
       "      <th>119139</th>\n",
       "      <td>d52a67c98be1cf6a5c84435bd38d095d</td>\n",
       "      <td>2018-04-04 08:20:22</td>\n",
       "      <td>1.0</td>\n",
       "      <td>credit_card</td>\n",
       "      <td>129.06</td>\n",
       "      <td>5.0</td>\n",
       "      <td>Sports_Leisure</td>\n",
       "      <td>197</td>\n",
       "      <td>1</td>\n",
       "      <td>129.06</td>\n",
       "    </tr>\n",
       "    <tr>\n",
       "      <th>119140</th>\n",
       "      <td>e9f50caf99f032f0bf3c55141f019d99</td>\n",
       "      <td>2018-04-08 20:11:50</td>\n",
       "      <td>1.0</td>\n",
       "      <td>credit_card</td>\n",
       "      <td>56.04</td>\n",
       "      <td>1.0</td>\n",
       "      <td>Health_Beauty</td>\n",
       "      <td>192</td>\n",
       "      <td>1</td>\n",
       "      <td>56.04</td>\n",
       "    </tr>\n",
       "    <tr>\n",
       "      <th>119141</th>\n",
       "      <td>73c2643a0a458b49f58cea58833b192e</td>\n",
       "      <td>2017-11-03 21:08:33</td>\n",
       "      <td>1.0</td>\n",
       "      <td>credit_card</td>\n",
       "      <td>711.07</td>\n",
       "      <td>5.0</td>\n",
       "      <td>Fashion_Accessories</td>\n",
       "      <td>348</td>\n",
       "      <td>1</td>\n",
       "      <td>711.07</td>\n",
       "    </tr>\n",
       "    <tr>\n",
       "      <th>119142</th>\n",
       "      <td>84732c5050c01db9b23e19ba39899398</td>\n",
       "      <td>2017-12-19 14:27:23</td>\n",
       "      <td>1.0</td>\n",
       "      <td>credit_card</td>\n",
       "      <td>21.77</td>\n",
       "      <td>5.0</td>\n",
       "      <td>Health_Beauty</td>\n",
       "      <td>303</td>\n",
       "      <td>1</td>\n",
       "      <td>21.77</td>\n",
       "    </tr>\n",
       "  </tbody>\n",
       "</table>\n",
       "<p>119143 rows × 10 columns</p>\n",
       "</div>"
      ],
      "text/plain": [
       "                      customer_unique_id order_purchase_timestamp  \\\n",
       "0       861eff4711a542e4b93843c6dd7febb0      2017-05-16 15:05:35   \n",
       "1       290c77bc529b7ac935b93aa66c333dc3      2018-01-12 20:48:24   \n",
       "2       060e732b5b29e8181a18229c7b0b2b5e      2018-05-19 16:07:45   \n",
       "3       259dac757896d24d7702b9acbbff3f3c      2018-03-13 16:06:38   \n",
       "4       345ecd01c38d18a9036ed96c73b8d066      2018-07-29 09:51:30   \n",
       "...                                  ...                      ...   \n",
       "119138  1a29b476fee25c95fbafc67c5ac95cf8      2018-04-07 15:48:17   \n",
       "119139  d52a67c98be1cf6a5c84435bd38d095d      2018-04-04 08:20:22   \n",
       "119140  e9f50caf99f032f0bf3c55141f019d99      2018-04-08 20:11:50   \n",
       "119141  73c2643a0a458b49f58cea58833b192e      2017-11-03 21:08:33   \n",
       "119142  84732c5050c01db9b23e19ba39899398      2017-12-19 14:27:23   \n",
       "\n",
       "        order_item_id_x payment_type  payment_value_x  review_score  \\\n",
       "0                   1.0  credit_card           146.87           4.0   \n",
       "1                   1.0  credit_card           335.48           5.0   \n",
       "2                   1.0  credit_card           157.73           5.0   \n",
       "3                   1.0  credit_card           173.30           5.0   \n",
       "4                   1.0  credit_card           252.25           5.0   \n",
       "...                 ...          ...              ...           ...   \n",
       "119138              1.0  credit_card            88.78           4.0   \n",
       "119139              1.0  credit_card           129.06           5.0   \n",
       "119140              1.0  credit_card            56.04           1.0   \n",
       "119141              1.0  credit_card           711.07           5.0   \n",
       "119142              1.0  credit_card            21.77           5.0   \n",
       "\n",
       "       product_category_name  recency  frequency  Montant  \n",
       "0            Office_Supplies      520          1   146.87  \n",
       "1                       Home      278          1   335.48  \n",
       "2            Office_Supplies      152          1   157.73  \n",
       "3            Office_Supplies      219          1   173.30  \n",
       "4                       Home       81          1   252.25  \n",
       "...                      ...      ...        ...      ...  \n",
       "119138                 Books      194          1    88.78  \n",
       "119139        Sports_Leisure      197          1   129.06  \n",
       "119140         Health_Beauty      192          1    56.04  \n",
       "119141   Fashion_Accessories      348          1   711.07  \n",
       "119142         Health_Beauty      303          1    21.77  \n",
       "\n",
       "[119143 rows x 10 columns]"
      ]
     },
     "execution_count": 766,
     "metadata": {},
     "output_type": "execute_result"
    }
   ],
   "source": [
    "data_finale"
   ]
  },
  {
   "cell_type": "code",
   "execution_count": 767,
   "metadata": {},
   "outputs": [],
   "source": [
    "def get_mode(x):\n",
    "    return x.mode().iloc[0]"
   ]
  },
  {
   "cell_type": "code",
   "execution_count": 768,
   "metadata": {},
   "outputs": [],
   "source": [
    "agg_dict = {\n",
    "    'customer_unique_id':get_mode,\n",
    "    'order_item_id_x':'max',\n",
    " 'frequency': 'max',\n",
    " 'recency':'max',\n",
    " 'Montant':'max',\n",
    " 'payment_type':get_mode,\n",
    " 'review_score': 'mean',\n",
    " 'product_category_name':get_mode,}"
   ]
  },
  {
   "cell_type": "code",
   "execution_count": 769,
   "metadata": {},
   "outputs": [],
   "source": [
    "data_finale=data_finale.dropna()"
   ]
  },
  {
   "cell_type": "code",
   "execution_count": 770,
   "metadata": {},
   "outputs": [],
   "source": [
    "data_finale=data_finale.groupby(by='customer_unique_id').agg(agg_dict)\n"
   ]
  },
  {
   "cell_type": "code",
   "execution_count": 771,
   "metadata": {},
   "outputs": [
    {
     "data": {
      "text/html": [
       "<div>\n",
       "<style scoped>\n",
       "    .dataframe tbody tr th:only-of-type {\n",
       "        vertical-align: middle;\n",
       "    }\n",
       "\n",
       "    .dataframe tbody tr th {\n",
       "        vertical-align: top;\n",
       "    }\n",
       "\n",
       "    .dataframe thead th {\n",
       "        text-align: right;\n",
       "    }\n",
       "</style>\n",
       "<table border=\"1\" class=\"dataframe\">\n",
       "  <thead>\n",
       "    <tr style=\"text-align: right;\">\n",
       "      <th></th>\n",
       "      <th>customer_unique_id</th>\n",
       "      <th>order_item_id_x</th>\n",
       "      <th>frequency</th>\n",
       "      <th>recency</th>\n",
       "      <th>Montant</th>\n",
       "      <th>payment_type</th>\n",
       "      <th>review_score</th>\n",
       "      <th>product_category_name</th>\n",
       "    </tr>\n",
       "    <tr>\n",
       "      <th>customer_unique_id</th>\n",
       "      <th></th>\n",
       "      <th></th>\n",
       "      <th></th>\n",
       "      <th></th>\n",
       "      <th></th>\n",
       "      <th></th>\n",
       "      <th></th>\n",
       "      <th></th>\n",
       "    </tr>\n",
       "  </thead>\n",
       "  <tbody>\n",
       "    <tr>\n",
       "      <th>0000366f3b9a7992bf8c76cfdf3221e2</th>\n",
       "      <td>0000366f3b9a7992bf8c76cfdf3221e2</td>\n",
       "      <td>1.0</td>\n",
       "      <td>1</td>\n",
       "      <td>161</td>\n",
       "      <td>141.90</td>\n",
       "      <td>credit_card</td>\n",
       "      <td>5.0</td>\n",
       "      <td>Home</td>\n",
       "    </tr>\n",
       "    <tr>\n",
       "      <th>0000b849f77a49e4a4ce2b2a4ca5be3f</th>\n",
       "      <td>0000b849f77a49e4a4ce2b2a4ca5be3f</td>\n",
       "      <td>1.0</td>\n",
       "      <td>1</td>\n",
       "      <td>164</td>\n",
       "      <td>27.19</td>\n",
       "      <td>credit_card</td>\n",
       "      <td>4.0</td>\n",
       "      <td>Health_Beauty</td>\n",
       "    </tr>\n",
       "    <tr>\n",
       "      <th>0000f46a3911fa3c0805444483337064</th>\n",
       "      <td>0000f46a3911fa3c0805444483337064</td>\n",
       "      <td>1.0</td>\n",
       "      <td>1</td>\n",
       "      <td>586</td>\n",
       "      <td>86.22</td>\n",
       "      <td>credit_card</td>\n",
       "      <td>3.0</td>\n",
       "      <td>Office_Supplies</td>\n",
       "    </tr>\n",
       "    <tr>\n",
       "      <th>0000f6ccb0745a6a4b88665a16c9f078</th>\n",
       "      <td>0000f6ccb0745a6a4b88665a16c9f078</td>\n",
       "      <td>1.0</td>\n",
       "      <td>1</td>\n",
       "      <td>370</td>\n",
       "      <td>43.62</td>\n",
       "      <td>credit_card</td>\n",
       "      <td>4.0</td>\n",
       "      <td>Technology</td>\n",
       "    </tr>\n",
       "    <tr>\n",
       "      <th>0004aac84e0df4da2b147fca70cf8255</th>\n",
       "      <td>0004aac84e0df4da2b147fca70cf8255</td>\n",
       "      <td>1.0</td>\n",
       "      <td>1</td>\n",
       "      <td>337</td>\n",
       "      <td>196.89</td>\n",
       "      <td>credit_card</td>\n",
       "      <td>5.0</td>\n",
       "      <td>Technology</td>\n",
       "    </tr>\n",
       "    <tr>\n",
       "      <th>...</th>\n",
       "      <td>...</td>\n",
       "      <td>...</td>\n",
       "      <td>...</td>\n",
       "      <td>...</td>\n",
       "      <td>...</td>\n",
       "      <td>...</td>\n",
       "      <td>...</td>\n",
       "      <td>...</td>\n",
       "    </tr>\n",
       "    <tr>\n",
       "      <th>fffcf5a5ff07b0908bd4e2dbc735a684</th>\n",
       "      <td>fffcf5a5ff07b0908bd4e2dbc735a684</td>\n",
       "      <td>2.0</td>\n",
       "      <td>2</td>\n",
       "      <td>496</td>\n",
       "      <td>2067.42</td>\n",
       "      <td>credit_card</td>\n",
       "      <td>5.0</td>\n",
       "      <td>Health_Beauty</td>\n",
       "    </tr>\n",
       "    <tr>\n",
       "      <th>fffea47cd6d3cc0a88bd621562a9d061</th>\n",
       "      <td>fffea47cd6d3cc0a88bd621562a9d061</td>\n",
       "      <td>1.0</td>\n",
       "      <td>1</td>\n",
       "      <td>311</td>\n",
       "      <td>84.58</td>\n",
       "      <td>credit_card</td>\n",
       "      <td>4.0</td>\n",
       "      <td>Baby</td>\n",
       "    </tr>\n",
       "    <tr>\n",
       "      <th>ffff371b4d645b6ecea244b27531430a</th>\n",
       "      <td>ffff371b4d645b6ecea244b27531430a</td>\n",
       "      <td>1.0</td>\n",
       "      <td>1</td>\n",
       "      <td>618</td>\n",
       "      <td>112.46</td>\n",
       "      <td>credit_card</td>\n",
       "      <td>5.0</td>\n",
       "      <td>Automotive</td>\n",
       "    </tr>\n",
       "    <tr>\n",
       "      <th>ffff5962728ec6157033ef9805bacc48</th>\n",
       "      <td>ffff5962728ec6157033ef9805bacc48</td>\n",
       "      <td>1.0</td>\n",
       "      <td>1</td>\n",
       "      <td>169</td>\n",
       "      <td>133.69</td>\n",
       "      <td>credit_card</td>\n",
       "      <td>5.0</td>\n",
       "      <td>Fashion_Accessories</td>\n",
       "    </tr>\n",
       "    <tr>\n",
       "      <th>ffffd2657e2aad2907e67c3e9daecbeb</th>\n",
       "      <td>ffffd2657e2aad2907e67c3e9daecbeb</td>\n",
       "      <td>1.0</td>\n",
       "      <td>1</td>\n",
       "      <td>533</td>\n",
       "      <td>71.56</td>\n",
       "      <td>credit_card</td>\n",
       "      <td>5.0</td>\n",
       "      <td>Health_Beauty</td>\n",
       "    </tr>\n",
       "  </tbody>\n",
       "</table>\n",
       "<p>94720 rows × 8 columns</p>\n",
       "</div>"
      ],
      "text/plain": [
       "                                                customer_unique_id  \\\n",
       "customer_unique_id                                                   \n",
       "0000366f3b9a7992bf8c76cfdf3221e2  0000366f3b9a7992bf8c76cfdf3221e2   \n",
       "0000b849f77a49e4a4ce2b2a4ca5be3f  0000b849f77a49e4a4ce2b2a4ca5be3f   \n",
       "0000f46a3911fa3c0805444483337064  0000f46a3911fa3c0805444483337064   \n",
       "0000f6ccb0745a6a4b88665a16c9f078  0000f6ccb0745a6a4b88665a16c9f078   \n",
       "0004aac84e0df4da2b147fca70cf8255  0004aac84e0df4da2b147fca70cf8255   \n",
       "...                                                            ...   \n",
       "fffcf5a5ff07b0908bd4e2dbc735a684  fffcf5a5ff07b0908bd4e2dbc735a684   \n",
       "fffea47cd6d3cc0a88bd621562a9d061  fffea47cd6d3cc0a88bd621562a9d061   \n",
       "ffff371b4d645b6ecea244b27531430a  ffff371b4d645b6ecea244b27531430a   \n",
       "ffff5962728ec6157033ef9805bacc48  ffff5962728ec6157033ef9805bacc48   \n",
       "ffffd2657e2aad2907e67c3e9daecbeb  ffffd2657e2aad2907e67c3e9daecbeb   \n",
       "\n",
       "                                  order_item_id_x  frequency  recency  \\\n",
       "customer_unique_id                                                      \n",
       "0000366f3b9a7992bf8c76cfdf3221e2              1.0          1      161   \n",
       "0000b849f77a49e4a4ce2b2a4ca5be3f              1.0          1      164   \n",
       "0000f46a3911fa3c0805444483337064              1.0          1      586   \n",
       "0000f6ccb0745a6a4b88665a16c9f078              1.0          1      370   \n",
       "0004aac84e0df4da2b147fca70cf8255              1.0          1      337   \n",
       "...                                           ...        ...      ...   \n",
       "fffcf5a5ff07b0908bd4e2dbc735a684              2.0          2      496   \n",
       "fffea47cd6d3cc0a88bd621562a9d061              1.0          1      311   \n",
       "ffff371b4d645b6ecea244b27531430a              1.0          1      618   \n",
       "ffff5962728ec6157033ef9805bacc48              1.0          1      169   \n",
       "ffffd2657e2aad2907e67c3e9daecbeb              1.0          1      533   \n",
       "\n",
       "                                  Montant payment_type  review_score  \\\n",
       "customer_unique_id                                                     \n",
       "0000366f3b9a7992bf8c76cfdf3221e2   141.90  credit_card           5.0   \n",
       "0000b849f77a49e4a4ce2b2a4ca5be3f    27.19  credit_card           4.0   \n",
       "0000f46a3911fa3c0805444483337064    86.22  credit_card           3.0   \n",
       "0000f6ccb0745a6a4b88665a16c9f078    43.62  credit_card           4.0   \n",
       "0004aac84e0df4da2b147fca70cf8255   196.89  credit_card           5.0   \n",
       "...                                   ...          ...           ...   \n",
       "fffcf5a5ff07b0908bd4e2dbc735a684  2067.42  credit_card           5.0   \n",
       "fffea47cd6d3cc0a88bd621562a9d061    84.58  credit_card           4.0   \n",
       "ffff371b4d645b6ecea244b27531430a   112.46  credit_card           5.0   \n",
       "ffff5962728ec6157033ef9805bacc48   133.69  credit_card           5.0   \n",
       "ffffd2657e2aad2907e67c3e9daecbeb    71.56  credit_card           5.0   \n",
       "\n",
       "                                 product_category_name  \n",
       "customer_unique_id                                      \n",
       "0000366f3b9a7992bf8c76cfdf3221e2                  Home  \n",
       "0000b849f77a49e4a4ce2b2a4ca5be3f         Health_Beauty  \n",
       "0000f46a3911fa3c0805444483337064       Office_Supplies  \n",
       "0000f6ccb0745a6a4b88665a16c9f078            Technology  \n",
       "0004aac84e0df4da2b147fca70cf8255            Technology  \n",
       "...                                                ...  \n",
       "fffcf5a5ff07b0908bd4e2dbc735a684         Health_Beauty  \n",
       "fffea47cd6d3cc0a88bd621562a9d061                  Baby  \n",
       "ffff371b4d645b6ecea244b27531430a            Automotive  \n",
       "ffff5962728ec6157033ef9805bacc48   Fashion_Accessories  \n",
       "ffffd2657e2aad2907e67c3e9daecbeb         Health_Beauty  \n",
       "\n",
       "[94720 rows x 8 columns]"
      ]
     },
     "execution_count": 771,
     "metadata": {},
     "output_type": "execute_result"
    }
   ],
   "source": [
    "data_finale"
   ]
  },
  {
   "cell_type": "code",
   "execution_count": 772,
   "metadata": {},
   "outputs": [],
   "source": [
    "data_finale=data_finale.drop(['customer_unique_id'],axis=1)"
   ]
  },
  {
   "cell_type": "code",
   "execution_count": 773,
   "metadata": {},
   "outputs": [
    {
     "data": {
      "text/html": [
       "<div>\n",
       "<style scoped>\n",
       "    .dataframe tbody tr th:only-of-type {\n",
       "        vertical-align: middle;\n",
       "    }\n",
       "\n",
       "    .dataframe tbody tr th {\n",
       "        vertical-align: top;\n",
       "    }\n",
       "\n",
       "    .dataframe thead th {\n",
       "        text-align: right;\n",
       "    }\n",
       "</style>\n",
       "<table border=\"1\" class=\"dataframe\">\n",
       "  <thead>\n",
       "    <tr style=\"text-align: right;\">\n",
       "      <th></th>\n",
       "      <th>order_item_id_x</th>\n",
       "      <th>frequency</th>\n",
       "      <th>recency</th>\n",
       "      <th>Montant</th>\n",
       "      <th>payment_type</th>\n",
       "      <th>review_score</th>\n",
       "      <th>product_category_name</th>\n",
       "    </tr>\n",
       "    <tr>\n",
       "      <th>customer_unique_id</th>\n",
       "      <th></th>\n",
       "      <th></th>\n",
       "      <th></th>\n",
       "      <th></th>\n",
       "      <th></th>\n",
       "      <th></th>\n",
       "      <th></th>\n",
       "    </tr>\n",
       "  </thead>\n",
       "  <tbody>\n",
       "    <tr>\n",
       "      <th>0000366f3b9a7992bf8c76cfdf3221e2</th>\n",
       "      <td>1.0</td>\n",
       "      <td>1</td>\n",
       "      <td>161</td>\n",
       "      <td>141.90</td>\n",
       "      <td>credit_card</td>\n",
       "      <td>5.0</td>\n",
       "      <td>Home</td>\n",
       "    </tr>\n",
       "    <tr>\n",
       "      <th>0000b849f77a49e4a4ce2b2a4ca5be3f</th>\n",
       "      <td>1.0</td>\n",
       "      <td>1</td>\n",
       "      <td>164</td>\n",
       "      <td>27.19</td>\n",
       "      <td>credit_card</td>\n",
       "      <td>4.0</td>\n",
       "      <td>Health_Beauty</td>\n",
       "    </tr>\n",
       "    <tr>\n",
       "      <th>0000f46a3911fa3c0805444483337064</th>\n",
       "      <td>1.0</td>\n",
       "      <td>1</td>\n",
       "      <td>586</td>\n",
       "      <td>86.22</td>\n",
       "      <td>credit_card</td>\n",
       "      <td>3.0</td>\n",
       "      <td>Office_Supplies</td>\n",
       "    </tr>\n",
       "    <tr>\n",
       "      <th>0000f6ccb0745a6a4b88665a16c9f078</th>\n",
       "      <td>1.0</td>\n",
       "      <td>1</td>\n",
       "      <td>370</td>\n",
       "      <td>43.62</td>\n",
       "      <td>credit_card</td>\n",
       "      <td>4.0</td>\n",
       "      <td>Technology</td>\n",
       "    </tr>\n",
       "    <tr>\n",
       "      <th>0004aac84e0df4da2b147fca70cf8255</th>\n",
       "      <td>1.0</td>\n",
       "      <td>1</td>\n",
       "      <td>337</td>\n",
       "      <td>196.89</td>\n",
       "      <td>credit_card</td>\n",
       "      <td>5.0</td>\n",
       "      <td>Technology</td>\n",
       "    </tr>\n",
       "    <tr>\n",
       "      <th>...</th>\n",
       "      <td>...</td>\n",
       "      <td>...</td>\n",
       "      <td>...</td>\n",
       "      <td>...</td>\n",
       "      <td>...</td>\n",
       "      <td>...</td>\n",
       "      <td>...</td>\n",
       "    </tr>\n",
       "    <tr>\n",
       "      <th>fffcf5a5ff07b0908bd4e2dbc735a684</th>\n",
       "      <td>2.0</td>\n",
       "      <td>2</td>\n",
       "      <td>496</td>\n",
       "      <td>2067.42</td>\n",
       "      <td>credit_card</td>\n",
       "      <td>5.0</td>\n",
       "      <td>Health_Beauty</td>\n",
       "    </tr>\n",
       "    <tr>\n",
       "      <th>fffea47cd6d3cc0a88bd621562a9d061</th>\n",
       "      <td>1.0</td>\n",
       "      <td>1</td>\n",
       "      <td>311</td>\n",
       "      <td>84.58</td>\n",
       "      <td>credit_card</td>\n",
       "      <td>4.0</td>\n",
       "      <td>Baby</td>\n",
       "    </tr>\n",
       "    <tr>\n",
       "      <th>ffff371b4d645b6ecea244b27531430a</th>\n",
       "      <td>1.0</td>\n",
       "      <td>1</td>\n",
       "      <td>618</td>\n",
       "      <td>112.46</td>\n",
       "      <td>credit_card</td>\n",
       "      <td>5.0</td>\n",
       "      <td>Automotive</td>\n",
       "    </tr>\n",
       "    <tr>\n",
       "      <th>ffff5962728ec6157033ef9805bacc48</th>\n",
       "      <td>1.0</td>\n",
       "      <td>1</td>\n",
       "      <td>169</td>\n",
       "      <td>133.69</td>\n",
       "      <td>credit_card</td>\n",
       "      <td>5.0</td>\n",
       "      <td>Fashion_Accessories</td>\n",
       "    </tr>\n",
       "    <tr>\n",
       "      <th>ffffd2657e2aad2907e67c3e9daecbeb</th>\n",
       "      <td>1.0</td>\n",
       "      <td>1</td>\n",
       "      <td>533</td>\n",
       "      <td>71.56</td>\n",
       "      <td>credit_card</td>\n",
       "      <td>5.0</td>\n",
       "      <td>Health_Beauty</td>\n",
       "    </tr>\n",
       "  </tbody>\n",
       "</table>\n",
       "<p>94720 rows × 7 columns</p>\n",
       "</div>"
      ],
      "text/plain": [
       "                                  order_item_id_x  frequency  recency  \\\n",
       "customer_unique_id                                                      \n",
       "0000366f3b9a7992bf8c76cfdf3221e2              1.0          1      161   \n",
       "0000b849f77a49e4a4ce2b2a4ca5be3f              1.0          1      164   \n",
       "0000f46a3911fa3c0805444483337064              1.0          1      586   \n",
       "0000f6ccb0745a6a4b88665a16c9f078              1.0          1      370   \n",
       "0004aac84e0df4da2b147fca70cf8255              1.0          1      337   \n",
       "...                                           ...        ...      ...   \n",
       "fffcf5a5ff07b0908bd4e2dbc735a684              2.0          2      496   \n",
       "fffea47cd6d3cc0a88bd621562a9d061              1.0          1      311   \n",
       "ffff371b4d645b6ecea244b27531430a              1.0          1      618   \n",
       "ffff5962728ec6157033ef9805bacc48              1.0          1      169   \n",
       "ffffd2657e2aad2907e67c3e9daecbeb              1.0          1      533   \n",
       "\n",
       "                                  Montant payment_type  review_score  \\\n",
       "customer_unique_id                                                     \n",
       "0000366f3b9a7992bf8c76cfdf3221e2   141.90  credit_card           5.0   \n",
       "0000b849f77a49e4a4ce2b2a4ca5be3f    27.19  credit_card           4.0   \n",
       "0000f46a3911fa3c0805444483337064    86.22  credit_card           3.0   \n",
       "0000f6ccb0745a6a4b88665a16c9f078    43.62  credit_card           4.0   \n",
       "0004aac84e0df4da2b147fca70cf8255   196.89  credit_card           5.0   \n",
       "...                                   ...          ...           ...   \n",
       "fffcf5a5ff07b0908bd4e2dbc735a684  2067.42  credit_card           5.0   \n",
       "fffea47cd6d3cc0a88bd621562a9d061    84.58  credit_card           4.0   \n",
       "ffff371b4d645b6ecea244b27531430a   112.46  credit_card           5.0   \n",
       "ffff5962728ec6157033ef9805bacc48   133.69  credit_card           5.0   \n",
       "ffffd2657e2aad2907e67c3e9daecbeb    71.56  credit_card           5.0   \n",
       "\n",
       "                                 product_category_name  \n",
       "customer_unique_id                                      \n",
       "0000366f3b9a7992bf8c76cfdf3221e2                  Home  \n",
       "0000b849f77a49e4a4ce2b2a4ca5be3f         Health_Beauty  \n",
       "0000f46a3911fa3c0805444483337064       Office_Supplies  \n",
       "0000f6ccb0745a6a4b88665a16c9f078            Technology  \n",
       "0004aac84e0df4da2b147fca70cf8255            Technology  \n",
       "...                                                ...  \n",
       "fffcf5a5ff07b0908bd4e2dbc735a684         Health_Beauty  \n",
       "fffea47cd6d3cc0a88bd621562a9d061                  Baby  \n",
       "ffff371b4d645b6ecea244b27531430a            Automotive  \n",
       "ffff5962728ec6157033ef9805bacc48   Fashion_Accessories  \n",
       "ffffd2657e2aad2907e67c3e9daecbeb         Health_Beauty  \n",
       "\n",
       "[94720 rows x 7 columns]"
      ]
     },
     "execution_count": 773,
     "metadata": {},
     "output_type": "execute_result"
    }
   ],
   "source": [
    "data_finale"
   ]
  },
  {
   "attachments": {},
   "cell_type": "markdown",
   "metadata": {},
   "source": [
    "## Séparation des colonnes "
   ]
  },
  {
   "cell_type": "code",
   "execution_count": 774,
   "metadata": {},
   "outputs": [],
   "source": [
    "numerique= list(data_finale.select_dtypes(['float64', 'int64']).columns)\n",
    "categorielles = list(data_finale.select_dtypes(['object', 'category']).columns)"
   ]
  },
  {
   "attachments": {},
   "cell_type": "markdown",
   "metadata": {},
   "source": [
    "## Modélisation (Non-supervisé)"
   ]
  },
  {
   "cell_type": "code",
   "execution_count": 775,
   "metadata": {},
   "outputs": [],
   "source": [
    "numerical_features = make_column_selector(dtype_include=np.number)\n",
    "categorical_features = make_column_selector(dtype_exclude=np.number)\n",
    "\n",
    "numerical_transformer = make_pipeline(\n",
    "    FunctionTransformer(func=np.abs),\n",
    "    FunctionTransformer(func=np.log1p),\n",
    "    StandardScaler()\n",
    "    \n",
    "    \n",
    ")\n",
    "\n",
    "preprocessor = make_column_transformer(\n",
    "    (numerical_transformer, numerique),\n",
    "    (OneHotEncoder(sparse=False), categorielles)\n",
    ")"
   ]
  },
  {
   "cell_type": "code",
   "execution_count": 776,
   "metadata": {},
   "outputs": [
    {
     "data": {
      "text/plain": [
       "Text(0, 0.5, 'Inertie')"
      ]
     },
     "execution_count": 776,
     "metadata": {},
     "output_type": "execute_result"
    },
    {
     "data": {
      "image/png": "[encoded data removed]",
      "text/plain": [
       "<Figure size 640x480 with 1 Axes>"
      ]
     },
     "metadata": {},
     "output_type": "display_data"
    }
   ],
   "source": [
    "tab= []\n",
    "for i in range (1,15):\n",
    "    kmeans=KMeans(n_clusters=i,random_state=0)\n",
    "    pipe_kmeans=make_pipeline(preprocessor,kmeans)\n",
    "    pipe_kmeans.fit (data_finale)\n",
    "    tab.append(kmeans.inertia_)\n",
    "plt.plot (range (1,15), tab)\n",
    "plt.title (\"La méthode Eblow\")\n",
    "plt.xlabel(\"nombre de clusters\")\n",
    "plt.ylabel(\"Inertie\")"
   ]
  },
  {
   "cell_type": "code",
   "execution_count": 777,
   "metadata": {},
   "outputs": [],
   "source": [
    "kmeans=KMeans(n_clusters=5,random_state=0)\n",
    "pipe_kmeans=make_pipeline(preprocessor,PCA(n_components=0.9))\n",
    "data_f=pd.DataFrame(pipe_kmeans.fit_transform(data_finale))\n",
    "cluster=kmeans.fit_predict(data_f)"
   ]
  },
  {
   "cell_type": "code",
   "execution_count": 778,
   "metadata": {},
   "outputs": [],
   "source": [
    "data_finale['cluster_labels']=cluster"
   ]
  },
  {
   "cell_type": "code",
   "execution_count": 779,
   "metadata": {},
   "outputs": [
    {
     "data": {
      "image/png": "[encoded data removed]",
      "text/plain": [
       "<Figure size 640x480 with 1 Axes>"
      ]
     },
     "metadata": {},
     "output_type": "display_data"
    }
   ],
   "source": [
    "\n",
    "plt.scatter(data_f.iloc[:,0],data_f.iloc[:,1],c=cluster)\n",
    "plt.xlabel('First Principal Component')\n",
    "plt.ylabel('Second Principal Component')\n",
    "plt.title('Visualisation des clusters obtenus par kmeans avec ')\n",
    "plt.show()"
   ]
  },
  {
   "cell_type": "code",
   "execution_count": 780,
   "metadata": {},
   "outputs": [],
   "source": [
    "data_finale=data_finale.groupby('cluster_labels').agg({'order_item_id_x':'mean', \n",
    "                                                   'review_score':'mean',\n",
    "                                                 'recency':'mean',\n",
    "                                                 'frequency':'mean', \n",
    "                                                 'Montant':'mean',\n",
    "                                                  'payment_type':lambda x :x.value_counts().index[0],\n",
    "                                                  'product_category_name':\tlambda x :x.value_counts().index[0]})\n",
    "\t"
   ]
  },
  {
   "cell_type": "code",
   "execution_count": 781,
   "metadata": {},
   "outputs": [
    {
     "data": {
      "text/html": [
       "<div>\n",
       "<style scoped>\n",
       "    .dataframe tbody tr th:only-of-type {\n",
       "        vertical-align: middle;\n",
       "    }\n",
       "\n",
       "    .dataframe tbody tr th {\n",
       "        vertical-align: top;\n",
       "    }\n",
       "\n",
       "    .dataframe thead th {\n",
       "        text-align: right;\n",
       "    }\n",
       "</style>\n",
       "<table border=\"1\" class=\"dataframe\">\n",
       "  <thead>\n",
       "    <tr style=\"text-align: right;\">\n",
       "      <th></th>\n",
       "      <th>order_item_id_x</th>\n",
       "      <th>review_score</th>\n",
       "      <th>recency</th>\n",
       "      <th>frequency</th>\n",
       "      <th>Montant</th>\n",
       "      <th>payment_type</th>\n",
       "      <th>product_category_name</th>\n",
       "    </tr>\n",
       "    <tr>\n",
       "      <th>cluster_labels</th>\n",
       "      <th></th>\n",
       "      <th></th>\n",
       "      <th></th>\n",
       "      <th></th>\n",
       "      <th></th>\n",
       "      <th></th>\n",
       "      <th></th>\n",
       "    </tr>\n",
       "  </thead>\n",
       "  <tbody>\n",
       "    <tr>\n",
       "      <th>0</th>\n",
       "      <td>1.000000</td>\n",
       "      <td>4.600471</td>\n",
       "      <td>115.818349</td>\n",
       "      <td>1.036047</td>\n",
       "      <td>117.469060</td>\n",
       "      <td>credit_card</td>\n",
       "      <td>Home</td>\n",
       "    </tr>\n",
       "    <tr>\n",
       "      <th>1</th>\n",
       "      <td>2.350956</td>\n",
       "      <td>3.630400</td>\n",
       "      <td>296.504182</td>\n",
       "      <td>2.787933</td>\n",
       "      <td>243.231485</td>\n",
       "      <td>credit_card</td>\n",
       "      <td>Home</td>\n",
       "    </tr>\n",
       "    <tr>\n",
       "      <th>2</th>\n",
       "      <td>1.000000</td>\n",
       "      <td>4.561555</td>\n",
       "      <td>343.746043</td>\n",
       "      <td>1.054375</td>\n",
       "      <td>295.015724</td>\n",
       "      <td>credit_card</td>\n",
       "      <td>Home</td>\n",
       "    </tr>\n",
       "    <tr>\n",
       "      <th>3</th>\n",
       "      <td>1.000000</td>\n",
       "      <td>1.194477</td>\n",
       "      <td>297.100605</td>\n",
       "      <td>1.050449</td>\n",
       "      <td>163.463234</td>\n",
       "      <td>credit_card</td>\n",
       "      <td>Home</td>\n",
       "    </tr>\n",
       "    <tr>\n",
       "      <th>4</th>\n",
       "      <td>1.000000</td>\n",
       "      <td>4.546226</td>\n",
       "      <td>368.001170</td>\n",
       "      <td>1.074913</td>\n",
       "      <td>64.662368</td>\n",
       "      <td>credit_card</td>\n",
       "      <td>Home</td>\n",
       "    </tr>\n",
       "  </tbody>\n",
       "</table>\n",
       "</div>"
      ],
      "text/plain": [
       "                order_item_id_x  review_score     recency  frequency  \\\n",
       "cluster_labels                                                         \n",
       "0                      1.000000      4.600471  115.818349   1.036047   \n",
       "1                      2.350956      3.630400  296.504182   2.787933   \n",
       "2                      1.000000      4.561555  343.746043   1.054375   \n",
       "3                      1.000000      1.194477  297.100605   1.050449   \n",
       "4                      1.000000      4.546226  368.001170   1.074913   \n",
       "\n",
       "                   Montant payment_type product_category_name  \n",
       "cluster_labels                                                 \n",
       "0               117.469060  credit_card                  Home  \n",
       "1               243.231485  credit_card                  Home  \n",
       "2               295.015724  credit_card                  Home  \n",
       "3               163.463234  credit_card                  Home  \n",
       "4                64.662368  credit_card                  Home  "
      ]
     },
     "execution_count": 781,
     "metadata": {},
     "output_type": "execute_result"
    }
   ],
   "source": [
    "data_finale"
   ]
  },
  {
   "cell_type": "code",
   "execution_count": 782,
   "metadata": {},
   "outputs": [],
   "source": [
    "data_final1=data_finale.groupby('cluster_labels').agg({'order_item_id_x':'mean', \n",
    "                                                   'review_score':'mean',\n",
    "                                                 'recency':'mean',\n",
    "                                                 'frequency':'mean', \n",
    "                                                 'Montant':'mean',\n",
    "                                                 })\n",
    "\t"
   ]
  },
  {
   "cell_type": "code",
   "execution_count": 783,
   "metadata": {},
   "outputs": [
    {
     "data": {
      "text/html": [
       "<div>\n",
       "<style scoped>\n",
       "    .dataframe tbody tr th:only-of-type {\n",
       "        vertical-align: middle;\n",
       "    }\n",
       "\n",
       "    .dataframe tbody tr th {\n",
       "        vertical-align: top;\n",
       "    }\n",
       "\n",
       "    .dataframe thead th {\n",
       "        text-align: right;\n",
       "    }\n",
       "</style>\n",
       "<table border=\"1\" class=\"dataframe\">\n",
       "  <thead>\n",
       "    <tr style=\"text-align: right;\">\n",
       "      <th></th>\n",
       "      <th>order_item_id_x</th>\n",
       "      <th>review_score</th>\n",
       "      <th>recency</th>\n",
       "      <th>frequency</th>\n",
       "      <th>Montant</th>\n",
       "    </tr>\n",
       "    <tr>\n",
       "      <th>cluster_labels</th>\n",
       "      <th></th>\n",
       "      <th></th>\n",
       "      <th></th>\n",
       "      <th></th>\n",
       "      <th></th>\n",
       "    </tr>\n",
       "  </thead>\n",
       "  <tbody>\n",
       "    <tr>\n",
       "      <th>0</th>\n",
       "      <td>1.000000</td>\n",
       "      <td>4.600471</td>\n",
       "      <td>115.818349</td>\n",
       "      <td>1.036047</td>\n",
       "      <td>117.469060</td>\n",
       "    </tr>\n",
       "    <tr>\n",
       "      <th>1</th>\n",
       "      <td>2.350956</td>\n",
       "      <td>3.630400</td>\n",
       "      <td>296.504182</td>\n",
       "      <td>2.787933</td>\n",
       "      <td>243.231485</td>\n",
       "    </tr>\n",
       "    <tr>\n",
       "      <th>2</th>\n",
       "      <td>1.000000</td>\n",
       "      <td>4.561555</td>\n",
       "      <td>343.746043</td>\n",
       "      <td>1.054375</td>\n",
       "      <td>295.015724</td>\n",
       "    </tr>\n",
       "    <tr>\n",
       "      <th>3</th>\n",
       "      <td>1.000000</td>\n",
       "      <td>1.194477</td>\n",
       "      <td>297.100605</td>\n",
       "      <td>1.050449</td>\n",
       "      <td>163.463234</td>\n",
       "    </tr>\n",
       "    <tr>\n",
       "      <th>4</th>\n",
       "      <td>1.000000</td>\n",
       "      <td>4.546226</td>\n",
       "      <td>368.001170</td>\n",
       "      <td>1.074913</td>\n",
       "      <td>64.662368</td>\n",
       "    </tr>\n",
       "  </tbody>\n",
       "</table>\n",
       "</div>"
      ],
      "text/plain": [
       "                order_item_id_x  review_score     recency  frequency  \\\n",
       "cluster_labels                                                         \n",
       "0                      1.000000      4.600471  115.818349   1.036047   \n",
       "1                      2.350956      3.630400  296.504182   2.787933   \n",
       "2                      1.000000      4.561555  343.746043   1.054375   \n",
       "3                      1.000000      1.194477  297.100605   1.050449   \n",
       "4                      1.000000      4.546226  368.001170   1.074913   \n",
       "\n",
       "                   Montant  \n",
       "cluster_labels              \n",
       "0               117.469060  \n",
       "1               243.231485  \n",
       "2               295.015724  \n",
       "3               163.463234  \n",
       "4                64.662368  "
      ]
     },
     "execution_count": 783,
     "metadata": {},
     "output_type": "execute_result"
    }
   ],
   "source": [
    "data_final1"
   ]
  },
  {
   "cell_type": "code",
   "execution_count": 784,
   "metadata": {},
   "outputs": [],
   "source": [
    "data_final1[\"recency\"] = (data_final1[\"recency\"]/data_final1[\"recency\"].max())*5\n",
    "data_final1[\"order_item_id_x\"] = (data_final1[\"order_item_id_x\"]/data_final1[\"order_item_id_x\"].max())*5\n",
    "data_final1[\"review_score\"] = (data_final1[\"review_score\"]/data_final1[\"review_score\"].max())*5\n",
    "data_final1[\"frequency\"] = (data_final1[\"frequency\"]/data_final1[\"frequency\"].max())*5\n",
    "data_final1[\"Montant\"] = (data_final1[\"Montant\"]/data_final1[\"Montant\"].max())*5\n",
    "\n",
    "\n",
    "\n"
   ]
  },
  {
   "cell_type": "code",
   "execution_count": 785,
   "metadata": {},
   "outputs": [
    {
     "data": {
      "text/html": [
       "<div>\n",
       "<style scoped>\n",
       "    .dataframe tbody tr th:only-of-type {\n",
       "        vertical-align: middle;\n",
       "    }\n",
       "\n",
       "    .dataframe tbody tr th {\n",
       "        vertical-align: top;\n",
       "    }\n",
       "\n",
       "    .dataframe thead th {\n",
       "        text-align: right;\n",
       "    }\n",
       "</style>\n",
       "<table border=\"1\" class=\"dataframe\">\n",
       "  <thead>\n",
       "    <tr style=\"text-align: right;\">\n",
       "      <th></th>\n",
       "      <th>order_item_id_x</th>\n",
       "      <th>review_score</th>\n",
       "      <th>recency</th>\n",
       "      <th>frequency</th>\n",
       "      <th>Montant</th>\n",
       "    </tr>\n",
       "    <tr>\n",
       "      <th>cluster_labels</th>\n",
       "      <th></th>\n",
       "      <th></th>\n",
       "      <th></th>\n",
       "      <th></th>\n",
       "      <th></th>\n",
       "    </tr>\n",
       "  </thead>\n",
       "  <tbody>\n",
       "    <tr>\n",
       "      <th>0</th>\n",
       "      <td>2.126795</td>\n",
       "      <td>5.000000</td>\n",
       "      <td>1.573614</td>\n",
       "      <td>1.858091</td>\n",
       "      <td>1.990895</td>\n",
       "    </tr>\n",
       "    <tr>\n",
       "      <th>1</th>\n",
       "      <td>5.000000</td>\n",
       "      <td>3.945683</td>\n",
       "      <td>4.028577</td>\n",
       "      <td>5.000000</td>\n",
       "      <td>4.122348</td>\n",
       "    </tr>\n",
       "    <tr>\n",
       "      <th>2</th>\n",
       "      <td>2.126795</td>\n",
       "      <td>4.957705</td>\n",
       "      <td>4.670448</td>\n",
       "      <td>1.890962</td>\n",
       "      <td>5.000000</td>\n",
       "    </tr>\n",
       "    <tr>\n",
       "      <th>3</th>\n",
       "      <td>2.126795</td>\n",
       "      <td>1.298212</td>\n",
       "      <td>4.036680</td>\n",
       "      <td>1.883921</td>\n",
       "      <td>2.770416</td>\n",
       "    </tr>\n",
       "    <tr>\n",
       "      <th>4</th>\n",
       "      <td>2.126795</td>\n",
       "      <td>4.941044</td>\n",
       "      <td>5.000000</td>\n",
       "      <td>1.927796</td>\n",
       "      <td>1.095914</td>\n",
       "    </tr>\n",
       "  </tbody>\n",
       "</table>\n",
       "</div>"
      ],
      "text/plain": [
       "                order_item_id_x  review_score   recency  frequency   Montant\n",
       "cluster_labels                                                              \n",
       "0                      2.126795      5.000000  1.573614   1.858091  1.990895\n",
       "1                      5.000000      3.945683  4.028577   5.000000  4.122348\n",
       "2                      2.126795      4.957705  4.670448   1.890962  5.000000\n",
       "3                      2.126795      1.298212  4.036680   1.883921  2.770416\n",
       "4                      2.126795      4.941044  5.000000   1.927796  1.095914"
      ]
     },
     "execution_count": 785,
     "metadata": {},
     "output_type": "execute_result"
    }
   ],
   "source": [
    "data_final1"
   ]
  },
  {
   "cell_type": "code",
   "execution_count": 786,
   "metadata": {},
   "outputs": [
    {
     "data": {
      "application/vnd.plotly.v1+json": {
       "config": {
        "plotlyServerURL": "https://plot.ly"
       },
       "data": [
        {
         "fill": "toself",
         "name": "Cluster 0",
         "r": [
          2.1267945623173676,
          5,
          1.5736138734908351,
          1.85809099672628,
          1.9908948947207386
         ],
         "theta": [
          "order_item_id_x",
          "review_score",
          "recency",
          "frequency",
          "Montant"
         ],
         "type": "scatterpolar"
        },
        {
         "fill": "toself",
         "name": "Cluster 1",
         "r": [
          5,
          3.945682765816655,
          4.028576615583662,
          5,
          4.122347818512316
         ],
         "theta": [
          "order_item_id_x",
          "review_score",
          "recency",
          "frequency",
          "Montant"
         ],
         "type": "scatterpolar"
        },
        {
         "fill": "toself",
         "name": "Cluster 2",
         "r": [
          2.1267945623173676,
          4.957704721659993,
          4.670447692181627,
          1.8909616069571922,
          5
         ],
         "theta": [
          "order_item_id_x",
          "review_score",
          "recency",
          "frequency",
          "Montant"
         ],
         "type": "scatterpolar"
        },
        {
         "fill": "toself",
         "name": "Cluster 3",
         "r": [
          2.1267945623173676,
          1.2982116481082713,
          4.036680168557784,
          1.8839205111980126,
          2.7704156145086243
         ],
         "theta": [
          "order_item_id_x",
          "review_score",
          "recency",
          "frequency",
          "Montant"
         ],
         "type": "scatterpolar"
        },
        {
         "fill": "toself",
         "name": "Cluster 4",
         "r": [
          2.1267945623173676,
          4.941044427448057,
          5,
          1.9277956562390095,
          1.0959139179021307
         ],
         "theta": [
          "order_item_id_x",
          "review_score",
          "recency",
          "frequency",
          "Montant"
         ],
         "type": "scatterpolar"
        }
       ],
       "layout": {
        "height": 780,
        "polar": {
         "radialaxis": {
          "range": [
           0,
           5
          ],
          "visible": true
         }
        },
        "showlegend": true,
        "template": {
         "data": {
          "bar": [
           {
            "error_x": {
             "color": "#2a3f5f"
            },
            "error_y": {
             "color": "#2a3f5f"
            },
            "marker": {
             "line": {
              "color": "#E5ECF6",
              "width": 0.5
             },
             "pattern": {
              "fillmode": "overlay",
              "size": 10,
              "solidity": 0.2
             }
            },
            "type": "bar"
           }
          ],
          "barpolar": [
           {
            "marker": {
             "line": {
              "color": "#E5ECF6",
              "width": 0.5
             },
             "pattern": {
              "fillmode": "overlay",
              "size": 10,
              "solidity": 0.2
             }
            },
            "type": "barpolar"
           }
          ],
          "carpet": [
           {
            "aaxis": {
             "endlinecolor": "#2a3f5f",
             "gridcolor": "white",
             "linecolor": "white",
             "minorgridcolor": "white",
             "startlinecolor": "#2a3f5f"
            },
            "baxis": {
             "endlinecolor": "#2a3f5f",
             "gridcolor": "white",
             "linecolor": "white",
             "minorgridcolor": "white",
             "startlinecolor": "#2a3f5f"
            },
            "type": "carpet"
           }
          ],
          "choropleth": [
           {
            "colorbar": {
             "outlinewidth": 0,
             "ticks": ""
            },
            "type": "choropleth"
           }
          ],
          "contour": [
           {
            "colorbar": {
             "outlinewidth": 0,
             "ticks": ""
            },
            "colorscale": [
             [
              0,
              "#0d0887"
             ],
             [
              0.1111111111111111,
              "#46039f"
             ],
             [
              0.2222222222222222,
              "#7201a8"
             ],
             [
              0.3333333333333333,
              "#9c179e"
             ],
             [
              0.4444444444444444,
              "#bd3786"
             ],
             [
              0.5555555555555556,
              "#d8576b"
             ],
             [
              0.6666666666666666,
              "#ed7953"
             ],
             [
              0.7777777777777778,
              "#fb9f3a"
             ],
             [
              0.8888888888888888,
              "#fdca26"
             ],
             [
              1,
              "#f0f921"
             ]
            ],
            "type": "contour"
           }
          ],
          "contourcarpet": [
           {
            "colorbar": {
             "outlinewidth": 0,
             "ticks": ""
            },
            "type": "contourcarpet"
           }
          ],
          "heatmap": [
           {
            "colorbar": {
             "outlinewidth": 0,
             "ticks": ""
            },
            "colorscale": [
             [
              0,
              "#0d0887"
             ],
             [
              0.1111111111111111,
              "#46039f"
             ],
             [
              0.2222222222222222,
              "#7201a8"
             ],
             [
              0.3333333333333333,
              "#9c179e"
             ],
             [
              0.4444444444444444,
              "#bd3786"
             ],
             [
              0.5555555555555556,
              "#d8576b"
             ],
             [
              0.6666666666666666,
              "#ed7953"
             ],
             [
              0.7777777777777778,
              "#fb9f3a"
             ],
             [
              0.8888888888888888,
              "#fdca26"
             ],
             [
              1,
              "#f0f921"
             ]
            ],
            "type": "heatmap"
           }
          ],
          "heatmapgl": [
           {
            "colorbar": {
             "outlinewidth": 0,
             "ticks": ""
            },
            "colorscale": [
             [
              0,
              "#0d0887"
             ],
             [
              0.1111111111111111,
              "#46039f"
             ],
             [
              0.2222222222222222,
              "#7201a8"
             ],
             [
              0.3333333333333333,
              "#9c179e"
             ],
             [
              0.4444444444444444,
              "#bd3786"
             ],
             [
              0.5555555555555556,
              "#d8576b"
             ],
             [
              0.6666666666666666,
              "#ed7953"
             ],
             [
              0.7777777777777778,
              "#fb9f3a"
             ],
             [
              0.8888888888888888,
              "#fdca26"
             ],
             [
              1,
              "#f0f921"
             ]
            ],
            "type": "heatmapgl"
           }
          ],
          "histogram": [
           {
            "marker": {
             "pattern": {
              "fillmode": "overlay",
              "size": 10,
              "solidity": 0.2
             }
            },
            "type": "histogram"
           }
          ],
          "histogram2d": [
           {
            "colorbar": {
             "outlinewidth": 0,
             "ticks": ""
            },
            "colorscale": [
             [
              0,
              "#0d0887"
             ],
             [
              0.1111111111111111,
              "#46039f"
             ],
             [
              0.2222222222222222,
              "#7201a8"
             ],
             [
              0.3333333333333333,
              "#9c179e"
             ],
             [
              0.4444444444444444,
              "#bd3786"
             ],
             [
              0.5555555555555556,
              "#d8576b"
             ],
             [
              0.6666666666666666,
              "#ed7953"
             ],
             [
              0.7777777777777778,
              "#fb9f3a"
             ],
             [
              0.8888888888888888,
              "#fdca26"
             ],
             [
              1,
              "#f0f921"
             ]
            ],
            "type": "histogram2d"
           }
          ],
          "histogram2dcontour": [
           {
            "colorbar": {
             "outlinewidth": 0,
             "ticks": ""
            },
            "colorscale": [
             [
              0,
              "#0d0887"
             ],
             [
              0.1111111111111111,
              "#46039f"
             ],
             [
              0.2222222222222222,
              "#7201a8"
             ],
             [
              0.3333333333333333,
              "#9c179e"
             ],
             [
              0.4444444444444444,
              "#bd3786"
             ],
             [
              0.5555555555555556,
              "#d8576b"
             ],
             [
              0.6666666666666666,
              "#ed7953"
             ],
             [
              0.7777777777777778,
              "#fb9f3a"
             ],
             [
              0.8888888888888888,
              "#fdca26"
             ],
             [
              1,
              "#f0f921"
             ]
            ],
            "type": "histogram2dcontour"
           }
          ],
          "mesh3d": [
           {
            "colorbar": {
             "outlinewidth": 0,
             "ticks": ""
            },
            "type": "mesh3d"
           }
          ],
          "parcoords": [
           {
            "line": {
             "colorbar": {
              "outlinewidth": 0,
              "ticks": ""
             }
            },
            "type": "parcoords"
           }
          ],
          "pie": [
           {
            "automargin": true,
            "type": "pie"
           }
          ],
          "scatter": [
           {
            "fillpattern": {
             "fillmode": "overlay",
             "size": 10,
             "solidity": 0.2
            },
            "type": "scatter"
           }
          ],
          "scatter3d": [
           {
            "line": {
             "colorbar": {
              "outlinewidth": 0,
              "ticks": ""
             }
            },
            "marker": {
             "colorbar": {
              "outlinewidth": 0,
              "ticks": ""
             }
            },
            "type": "scatter3d"
           }
          ],
          "scattercarpet": [
           {
            "marker": {
             "colorbar": {
              "outlinewidth": 0,
              "ticks": ""
             }
            },
            "type": "scattercarpet"
           }
          ],
          "scattergeo": [
           {
            "marker": {
             "colorbar": {
              "outlinewidth": 0,
              "ticks": ""
             }
            },
            "type": "scattergeo"
           }
          ],
          "scattergl": [
           {
            "marker": {
             "colorbar": {
              "outlinewidth": 0,
              "ticks": ""
             }
            },
            "type": "scattergl"
           }
          ],
          "scattermapbox": [
           {
            "marker": {
             "colorbar": {
              "outlinewidth": 0,
              "ticks": ""
             }
            },
            "type": "scattermapbox"
           }
          ],
          "scatterpolar": [
           {
            "marker": {
             "colorbar": {
              "outlinewidth": 0,
              "ticks": ""
             }
            },
            "type": "scatterpolar"
           }
          ],
          "scatterpolargl": [
           {
            "marker": {
             "colorbar": {
              "outlinewidth": 0,
              "ticks": ""
             }
            },
            "type": "scatterpolargl"
           }
          ],
          "scatterternary": [
           {
            "marker": {
             "colorbar": {
              "outlinewidth": 0,
              "ticks": ""
             }
            },
            "type": "scatterternary"
           }
          ],
          "surface": [
           {
            "colorbar": {
             "outlinewidth": 0,
             "ticks": ""
            },
            "colorscale": [
             [
              0,
              "#0d0887"
             ],
             [
              0.1111111111111111,
              "#46039f"
             ],
             [
              0.2222222222222222,
              "#7201a8"
             ],
             [
              0.3333333333333333,
              "#9c179e"
             ],
             [
              0.4444444444444444,
              "#bd3786"
             ],
             [
              0.5555555555555556,
              "#d8576b"
             ],
             [
              0.6666666666666666,
              "#ed7953"
             ],
             [
              0.7777777777777778,
              "#fb9f3a"
             ],
             [
              0.8888888888888888,
              "#fdca26"
             ],
             [
              1,
              "#f0f921"
             ]
            ],
            "type": "surface"
           }
          ],
          "table": [
           {
            "cells": {
             "fill": {
              "color": "#EBF0F8"
             },
             "line": {
              "color": "white"
             }
            },
            "header": {
             "fill": {
              "color": "#C8D4E3"
             },
             "line": {
              "color": "white"
             }
            },
            "type": "table"
           }
          ]
         },
         "layout": {
          "annotationdefaults": {
           "arrowcolor": "#2a3f5f",
           "arrowhead": 0,
           "arrowwidth": 1
          },
          "autotypenumbers": "strict",
          "coloraxis": {
           "colorbar": {
            "outlinewidth": 0,
            "ticks": ""
           }
          },
          "colorscale": {
           "diverging": [
            [
             0,
             "#8e0152"
            ],
            [
             0.1,
             "#c51b7d"
            ],
            [
             0.2,
             "#de77ae"
            ],
            [
             0.3,
             "#f1b6da"
            ],
            [
             0.4,
             "#fde0ef"
            ],
            [
             0.5,
             "#f7f7f7"
            ],
            [
             0.6,
             "#e6f5d0"
            ],
            [
             0.7,
             "#b8e186"
            ],
            [
             0.8,
             "#7fbc41"
            ],
            [
             0.9,
             "#4d9221"
            ],
            [
             1,
             "#276419"
            ]
           ],
           "sequential": [
            [
             0,
             "#0d0887"
            ],
            [
             0.1111111111111111,
             "#46039f"
            ],
            [
             0.2222222222222222,
             "#7201a8"
            ],
            [
             0.3333333333333333,
             "#9c179e"
            ],
            [
             0.4444444444444444,
             "#bd3786"
            ],
            [
             0.5555555555555556,
             "#d8576b"
            ],
            [
             0.6666666666666666,
             "#ed7953"
            ],
            [
             0.7777777777777778,
             "#fb9f3a"
            ],
            [
             0.8888888888888888,
             "#fdca26"
            ],
            [
             1,
             "#f0f921"
            ]
           ],
           "sequentialminus": [
            [
             0,
             "#0d0887"
            ],
            [
             0.1111111111111111,
             "#46039f"
            ],
            [
             0.2222222222222222,
             "#7201a8"
            ],
            [
             0.3333333333333333,
             "#9c179e"
            ],
            [
             0.4444444444444444,
             "#bd3786"
            ],
            [
             0.5555555555555556,
             "#d8576b"
            ],
            [
             0.6666666666666666,
             "#ed7953"
            ],
            [
             0.7777777777777778,
             "#fb9f3a"
            ],
            [
             0.8888888888888888,
             "#fdca26"
            ],
            [
             1,
             "#f0f921"
            ]
           ]
          },
          "colorway": [
           "#636efa",
           "#EF553B",
           "#00cc96",
           "#ab63fa",
           "#FFA15A",
           "#19d3f3",
           "#FF6692",
           "#B6E880",
           "#FF97FF",
           "#FECB52"
          ],
          "font": {
           "color": "#2a3f5f"
          },
          "geo": {
           "bgcolor": "white",
           "lakecolor": "white",
           "landcolor": "#E5ECF6",
           "showlakes": true,
           "showland": true,
           "subunitcolor": "white"
          },
          "hoverlabel": {
           "align": "left"
          },
          "hovermode": "closest",
          "mapbox": {
           "style": "light"
          },
          "paper_bgcolor": "white",
          "plot_bgcolor": "#E5ECF6",
          "polar": {
           "angularaxis": {
            "gridcolor": "white",
            "linecolor": "white",
            "ticks": ""
           },
           "bgcolor": "#E5ECF6",
           "radialaxis": {
            "gridcolor": "white",
            "linecolor": "white",
            "ticks": ""
           }
          },
          "scene": {
           "xaxis": {
            "backgroundcolor": "#E5ECF6",
            "gridcolor": "white",
            "gridwidth": 2,
            "linecolor": "white",
            "showbackground": true,
            "ticks": "",
            "zerolinecolor": "white"
           },
           "yaxis": {
            "backgroundcolor": "#E5ECF6",
            "gridcolor": "white",
            "gridwidth": 2,
            "linecolor": "white",
            "showbackground": true,
            "ticks": "",
            "zerolinecolor": "white"
           },
           "zaxis": {
            "backgroundcolor": "#E5ECF6",
            "gridcolor": "white",
            "gridwidth": 2,
            "linecolor": "white",
            "showbackground": true,
            "ticks": "",
            "zerolinecolor": "white"
           }
          },
          "shapedefaults": {
           "line": {
            "color": "#2a3f5f"
           }
          },
          "ternary": {
           "aaxis": {
            "gridcolor": "white",
            "linecolor": "white",
            "ticks": ""
           },
           "baxis": {
            "gridcolor": "white",
            "linecolor": "white",
            "ticks": ""
           },
           "bgcolor": "#E5ECF6",
           "caxis": {
            "gridcolor": "white",
            "linecolor": "white",
            "ticks": ""
           }
          },
          "title": {
           "x": 0.05
          },
          "xaxis": {
           "automargin": true,
           "gridcolor": "white",
           "linecolor": "white",
           "ticks": "",
           "title": {
            "standoff": 15
           },
           "zerolinecolor": "white",
           "zerolinewidth": 2
          },
          "yaxis": {
           "automargin": true,
           "gridcolor": "white",
           "linecolor": "white",
           "ticks": "",
           "title": {
            "standoff": 15
           },
           "zerolinecolor": "white",
           "zerolinewidth": 2
          }
         }
        },
        "width": 780
       }
      }
     },
     "metadata": {},
     "output_type": "display_data"
    }
   ],
   "source": [
    "import plotly.graph_objects as go\n",
    "# Créer une figure en radar pour chaque cluster\n",
    "fig = go.Figure()\n",
    "\n",
    "for cluster, row in data_final1.iterrows():\n",
    "    values = row.values.tolist()\n",
    "\n",
    "\n",
    "\n",
    "\n",
    "    fig.add_trace(go.Scatterpolar(\n",
    "        r=values,\n",
    "        theta=data_final1.columns,\n",
    "        fill='toself',\n",
    "        name=f'Cluster {cluster}'\n",
    "    ))\n",
    "\n",
    "# Mettre en forme la figurenum_cols,\n",
    "fig.update_layout(\n",
    "    polar=dict(\n",
    "        radialaxis=dict(\n",
    "            visible=True,\n",
    "            range=[0,5]\n",
    "        ),\n",
    "    ),\n",
    "    showlegend=True,\n",
    "    width=780,\n",
    "    height=780\n",
    "\n",
    ")\n",
    "\n",
    "# Afficher la figure\n",
    "fig.show()\n",
    "figsize = (60,60)"
   ]
  }
 ],
 "metadata": {
  "kernelspec": {
   "display_name": "dt_env",
   "language": "python",
   "name": "python3"
  },
  "language_info": {
   "codemirror_mode": {
    "name": "ipython",
    "version": 3
   },
   "file_extension": ".py",
   "mimetype": "text/x-python",
   "name": "python",
   "nbconvert_exporter": "python",
   "pygments_lexer": "ipython3",
   "version": "3.9.15"
  },
  "orig_nbformat": 4,
  "vscode": {
   "interpreter": {
    "hash": "574e2ed95378eed8b520b4095c37c02073032c9c1ddd2478dd84a572888a6f90"
   }
  }
 },
 "nbformat": 4,
 "nbformat_minor": 2
}
